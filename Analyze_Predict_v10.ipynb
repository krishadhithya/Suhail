{
 "cells": [
  {
   "cell_type": "markdown",
   "metadata": {},
   "source": [
    "# Descriptive Analysis and Predictive Modelling\n",
    "\n",
    "### Introduction:\n",
    "\n",
    "This notebook contains code for an analysis/modelling exercise. \n",
    "\n",
    "#### Data:\n",
    "For this exercise, the author chose a freely available financial data set available [here](http://lisp.vse.cz/pkdd99/berka.htm). The link contains detailed description of the data set. Briefly, the set contains information on clients, accounts, loans, transactions, credit cards, demographics etc. The original purpose of this data set was to challenge users to identify \"good\" and \"bad\" clients. In this notebook, the author pursues this  Good/Bad classification exercise, based, however, on AML specific metrics.\n",
    "\n",
    "#### Method:\n",
    "##### Demographic Data:\n",
    "First the demographics data is analyzed. This table/relation provides information on inhabitants, average income, region, number of crimes in 95 and 96, the overall population, unemployment rates, etc. In the AML world, there are several instances when the domicile locality of the customer or the account is used to score their AML risk. For example any client in Locale A is scored as \"High Risk\", whereas those in Locale B is scored \"Low Risk\". \n",
    "\n",
    "For this exercise, the author chose crime rates in 1996, i.e no. of crimes per 1000 inhabitants as the metric to decide between Good and Bad districts.\n",
    "\n",
    "##### Loan Data:\n",
    "The available loan data has specific indicators which indicate whether a loan is open or closed and whether it is in a good or a bad state. This indicator was used to determine whether an account is either Good or Bad\n",
    "\n",
    "##### Cash and Wire Transactions:\n",
    "In the AML domain, high value/high volume cash and wire transactions are traditionally considered indicators of potential Money Laundering activity. As such, there are dedicated monitors and controls on such activities in all Financial Institutions. \n",
    "\n",
    "In this exercise, the author marked accounts related to cash or wire transactions over 50,000 in value to be Good or Bad.\n",
    "\n",
    "##### Predictive Modelling:\n",
    "Once the Good and Bad clients were identified, the author used the loan, demographic, and transaction features to train Support Vector and Decision Tree Classfiers. The performance of these will be discussed in the conclusion.\n",
    "\n",
    "*In the rest of the notebook, data import, exploratory analysis, predictive modelling are performed. There are some graphs and tables which offer insight into the data and help with decisions on model parameter selection*"
   ]
  },
  {
   "cell_type": "markdown",
   "metadata": {},
   "source": [
    "### Data Import & Preparation:"
   ]
  },
  {
   "cell_type": "code",
   "execution_count": 1,
   "metadata": {},
   "outputs": [
    {
     "name": "stderr",
     "output_type": "stream",
     "text": [
      "/usr/lib/python3/dist-packages/matplotlib/__init__.py:874: UserWarning: axes.color_cycle is deprecated and replaced with axes.prop_cycle; please use the latter.\n",
      "  warnings.warn(self.msg_depr % (key, alt_key))\n"
     ]
    }
   ],
   "source": [
    "import pandas as pd\n",
    "import numpy as np\n",
    "from datetime import datetime\n",
    "import matplotlib.pyplot as plt\n",
    "import seaborn as sns\n",
    "from sklearn import preprocessing, tree\n",
    "from sklearn.model_selection import train_test_split\n",
    "from sklearn.svm import SVC\n",
    "\n",
    "import warnings\n",
    "warnings.filterwarnings(\"ignore\")\n",
    "\n",
    "%matplotlib inline"
   ]
  },
  {
   "cell_type": "code",
   "execution_count": 2,
   "metadata": {},
   "outputs": [],
   "source": [
    "account = pd.read_csv('Berka/account.asc',sep=';',encoding='ascii')\n",
    "card = pd.read_csv('Berka/card.asc',sep=';',encoding='ascii')\n",
    "client = pd.read_csv('Berka/client.asc',sep=';',encoding='ascii',dtype={'birth_number':object})\n",
    "disp = pd.read_csv('Berka/disp.asc',sep=';',encoding='ascii')\n",
    "district = pd.read_csv('Berka/district.asc',sep=';',encoding='ascii',na_values='?')\n",
    "loan = pd.read_csv('Berka/loan.asc',sep=';',encoding='ascii')\n",
    "order = pd.read_csv('Berka/order.asc',sep=';',encoding='ascii',dtype={'k_symbol':object})\n",
    "trans = pd.read_csv('Berka/trans.asc',sep=';',encoding='ascii',\\\n",
    "                    dtype={'date':object,'k_symbol':object,'bank':object,'account':object})\n",
    "\n",
    "#parse_dates=['date'], infer_datetime_format=True,\\"
   ]
  },
  {
   "cell_type": "code",
   "execution_count": 3,
   "metadata": {},
   "outputs": [],
   "source": [
    "account.loc[:,'date']=pd.to_datetime(account['date'],format='%y%m%d').map(lambda x: datetime(x.year-100,x.month,x.day) if x>=datetime(2000,1,1) else x)\n",
    "trans.loc[:,'date']=pd.to_datetime(trans['date'],format='%y%m%d').map(lambda x: datetime(x.year-100,x.month,x.day) if x>=datetime(2000,1,1) else x)\n",
    "loan.loc[:,'date']=pd.to_datetime(loan['date'],format='%y%m%d').map(lambda x: datetime(x.year-100,x.month,x.day) if x>=datetime(2000,1,1) else x)"
   ]
  },
  {
   "cell_type": "code",
   "execution_count": 4,
   "metadata": {},
   "outputs": [],
   "source": [
    "client['sex']=client['birth_number'].map(lambda x:'F' if int(x[2:4])>12 else 'M', na_action='ignore')\n",
    "\n",
    "#client['sex']=client['birth_number'].map(lambda x:x[2:3], na_action='ignore')\n",
    "\n",
    "client['birth_date']=pd.to_datetime(client['birth_number'].\\\n",
    "                                    map(lambda x:x[:2]+ '{0:02d}'.format(int(x[2:4])%50)+x[4:], na_action='ignore'),\\\n",
    "                                    format='%y%m%d')\n",
    "\n",
    "#client.loc[:,'birth_date']=client['birth_date'].map(lambda x: datetime(x.year-100,x.month,x.day) if x>=datetime.now() else x)\n",
    "\n",
    "client.loc[:,'birth_date']=client['birth_date'].map(lambda x: datetime(x.year-100,x.month,x.day) if x>=datetime(2000,1,1) else x)"
   ]
  },
  {
   "cell_type": "markdown",
   "metadata": {},
   "source": [
    "### Exploring Demographic Data:"
   ]
  },
  {
   "cell_type": "code",
   "execution_count": 5,
   "metadata": {
    "scrolled": true
   },
   "outputs": [
    {
     "data": {
      "text/html": [
       "<div>\n",
       "<table border=\"1\" class=\"dataframe\">\n",
       "  <thead>\n",
       "    <tr style=\"text-align: right;\">\n",
       "      <th></th>\n",
       "      <th>A1</th>\n",
       "      <th>A2</th>\n",
       "      <th>A3</th>\n",
       "      <th>A4</th>\n",
       "      <th>A5</th>\n",
       "      <th>A6</th>\n",
       "      <th>A7</th>\n",
       "      <th>A8</th>\n",
       "      <th>A9</th>\n",
       "      <th>A10</th>\n",
       "      <th>A11</th>\n",
       "      <th>A12</th>\n",
       "      <th>A13</th>\n",
       "      <th>A14</th>\n",
       "      <th>A15</th>\n",
       "      <th>A16</th>\n",
       "    </tr>\n",
       "  </thead>\n",
       "  <tbody>\n",
       "    <tr>\n",
       "      <th>0</th>\n",
       "      <td>1</td>\n",
       "      <td>Hl.m. Praha</td>\n",
       "      <td>Prague</td>\n",
       "      <td>1204953</td>\n",
       "      <td>0</td>\n",
       "      <td>0</td>\n",
       "      <td>0</td>\n",
       "      <td>1</td>\n",
       "      <td>1</td>\n",
       "      <td>100.0</td>\n",
       "      <td>12541</td>\n",
       "      <td>0.29</td>\n",
       "      <td>0.43</td>\n",
       "      <td>167</td>\n",
       "      <td>85677</td>\n",
       "      <td>99107</td>\n",
       "    </tr>\n",
       "    <tr>\n",
       "      <th>1</th>\n",
       "      <td>2</td>\n",
       "      <td>Benesov</td>\n",
       "      <td>central Bohemia</td>\n",
       "      <td>88884</td>\n",
       "      <td>80</td>\n",
       "      <td>26</td>\n",
       "      <td>6</td>\n",
       "      <td>2</td>\n",
       "      <td>5</td>\n",
       "      <td>46.7</td>\n",
       "      <td>8507</td>\n",
       "      <td>1.67</td>\n",
       "      <td>1.85</td>\n",
       "      <td>132</td>\n",
       "      <td>2159</td>\n",
       "      <td>2674</td>\n",
       "    </tr>\n",
       "    <tr>\n",
       "      <th>2</th>\n",
       "      <td>3</td>\n",
       "      <td>Beroun</td>\n",
       "      <td>central Bohemia</td>\n",
       "      <td>75232</td>\n",
       "      <td>55</td>\n",
       "      <td>26</td>\n",
       "      <td>4</td>\n",
       "      <td>1</td>\n",
       "      <td>5</td>\n",
       "      <td>41.7</td>\n",
       "      <td>8980</td>\n",
       "      <td>1.95</td>\n",
       "      <td>2.21</td>\n",
       "      <td>111</td>\n",
       "      <td>2824</td>\n",
       "      <td>2813</td>\n",
       "    </tr>\n",
       "    <tr>\n",
       "      <th>3</th>\n",
       "      <td>4</td>\n",
       "      <td>Kladno</td>\n",
       "      <td>central Bohemia</td>\n",
       "      <td>149893</td>\n",
       "      <td>63</td>\n",
       "      <td>29</td>\n",
       "      <td>6</td>\n",
       "      <td>2</td>\n",
       "      <td>6</td>\n",
       "      <td>67.4</td>\n",
       "      <td>9753</td>\n",
       "      <td>4.64</td>\n",
       "      <td>5.05</td>\n",
       "      <td>109</td>\n",
       "      <td>5244</td>\n",
       "      <td>5892</td>\n",
       "    </tr>\n",
       "    <tr>\n",
       "      <th>4</th>\n",
       "      <td>5</td>\n",
       "      <td>Kolin</td>\n",
       "      <td>central Bohemia</td>\n",
       "      <td>95616</td>\n",
       "      <td>65</td>\n",
       "      <td>30</td>\n",
       "      <td>4</td>\n",
       "      <td>1</td>\n",
       "      <td>6</td>\n",
       "      <td>51.4</td>\n",
       "      <td>9307</td>\n",
       "      <td>3.85</td>\n",
       "      <td>4.43</td>\n",
       "      <td>118</td>\n",
       "      <td>2616</td>\n",
       "      <td>3040</td>\n",
       "    </tr>\n",
       "  </tbody>\n",
       "</table>\n",
       "</div>"
      ],
      "text/plain": [
       "   A1           A2               A3       A4  A5  A6  A7  A8  A9    A10  \\\n",
       "0   1  Hl.m. Praha           Prague  1204953   0   0   0   1   1  100.0   \n",
       "1   2      Benesov  central Bohemia    88884  80  26   6   2   5   46.7   \n",
       "2   3       Beroun  central Bohemia    75232  55  26   4   1   5   41.7   \n",
       "3   4       Kladno  central Bohemia   149893  63  29   6   2   6   67.4   \n",
       "4   5        Kolin  central Bohemia    95616  65  30   4   1   6   51.4   \n",
       "\n",
       "     A11   A12   A13  A14    A15    A16  \n",
       "0  12541  0.29  0.43  167  85677  99107  \n",
       "1   8507  1.67  1.85  132   2159   2674  \n",
       "2   8980  1.95  2.21  111   2824   2813  \n",
       "3   9753  4.64  5.05  109   5244   5892  \n",
       "4   9307  3.85  4.43  118   2616   3040  "
      ]
     },
     "execution_count": 5,
     "metadata": {},
     "output_type": "execute_result"
    }
   ],
   "source": [
    "district.head()"
   ]
  },
  {
   "cell_type": "code",
   "execution_count": 6,
   "metadata": {},
   "outputs": [],
   "source": [
    "demographics=district[['A1','A2','A3','A4','A11','A12','A13','A14','A15','A16']].\\\n",
    "rename(columns={'A1':'district_id',\\\n",
    "                'A2':'dist_name',\\\n",
    "                'A3':'region',\\\n",
    "                'A4':'n_inhabitants',\\\n",
    "                'A11':'avg_salary',\\\n",
    "                'A12':'unemployment_95',\\\n",
    "                'A13':'unemployment_96',\\\n",
    "                'A14':'entrepreneurs_1000',\\\n",
    "                'A15':'n_crime_95',\\\n",
    "                'A16':'n_crime_96'})"
   ]
  },
  {
   "cell_type": "code",
   "execution_count": 117,
   "metadata": {
    "scrolled": true
   },
   "outputs": [
    {
     "data": {
      "text/html": [
       "<div>\n",
       "<table border=\"1\" class=\"dataframe\">\n",
       "  <thead>\n",
       "    <tr style=\"text-align: right;\">\n",
       "      <th></th>\n",
       "      <th>district_id</th>\n",
       "      <th>dist_name</th>\n",
       "      <th>region</th>\n",
       "      <th>n_inhabitants</th>\n",
       "      <th>avg_salary</th>\n",
       "      <th>unemployment_95</th>\n",
       "      <th>unemployment_96</th>\n",
       "      <th>entrepreneurs_1000</th>\n",
       "      <th>n_crime_95</th>\n",
       "      <th>n_crime_96</th>\n",
       "      <th>crimes_per_1000</th>\n",
       "    </tr>\n",
       "  </thead>\n",
       "  <tbody>\n",
       "    <tr>\n",
       "      <th>0</th>\n",
       "      <td>1</td>\n",
       "      <td>Hl.m. Praha</td>\n",
       "      <td>Prague</td>\n",
       "      <td>1204953</td>\n",
       "      <td>12541</td>\n",
       "      <td>0.29</td>\n",
       "      <td>0.43</td>\n",
       "      <td>167</td>\n",
       "      <td>85677</td>\n",
       "      <td>99107</td>\n",
       "      <td>82.249681</td>\n",
       "    </tr>\n",
       "    <tr>\n",
       "      <th>1</th>\n",
       "      <td>2</td>\n",
       "      <td>Benesov</td>\n",
       "      <td>central Bohemia</td>\n",
       "      <td>88884</td>\n",
       "      <td>8507</td>\n",
       "      <td>1.67</td>\n",
       "      <td>1.85</td>\n",
       "      <td>132</td>\n",
       "      <td>2159</td>\n",
       "      <td>2674</td>\n",
       "      <td>30.084155</td>\n",
       "    </tr>\n",
       "    <tr>\n",
       "      <th>2</th>\n",
       "      <td>3</td>\n",
       "      <td>Beroun</td>\n",
       "      <td>central Bohemia</td>\n",
       "      <td>75232</td>\n",
       "      <td>8980</td>\n",
       "      <td>1.95</td>\n",
       "      <td>2.21</td>\n",
       "      <td>111</td>\n",
       "      <td>2824</td>\n",
       "      <td>2813</td>\n",
       "      <td>37.391004</td>\n",
       "    </tr>\n",
       "    <tr>\n",
       "      <th>3</th>\n",
       "      <td>4</td>\n",
       "      <td>Kladno</td>\n",
       "      <td>central Bohemia</td>\n",
       "      <td>149893</td>\n",
       "      <td>9753</td>\n",
       "      <td>4.64</td>\n",
       "      <td>5.05</td>\n",
       "      <td>109</td>\n",
       "      <td>5244</td>\n",
       "      <td>5892</td>\n",
       "      <td>39.308040</td>\n",
       "    </tr>\n",
       "    <tr>\n",
       "      <th>4</th>\n",
       "      <td>5</td>\n",
       "      <td>Kolin</td>\n",
       "      <td>central Bohemia</td>\n",
       "      <td>95616</td>\n",
       "      <td>9307</td>\n",
       "      <td>3.85</td>\n",
       "      <td>4.43</td>\n",
       "      <td>118</td>\n",
       "      <td>2616</td>\n",
       "      <td>3040</td>\n",
       "      <td>31.793842</td>\n",
       "    </tr>\n",
       "  </tbody>\n",
       "</table>\n",
       "</div>"
      ],
      "text/plain": [
       "   district_id    dist_name           region  n_inhabitants  avg_salary  \\\n",
       "0            1  Hl.m. Praha           Prague        1204953       12541   \n",
       "1            2      Benesov  central Bohemia          88884        8507   \n",
       "2            3       Beroun  central Bohemia          75232        8980   \n",
       "3            4       Kladno  central Bohemia         149893        9753   \n",
       "4            5        Kolin  central Bohemia          95616        9307   \n",
       "\n",
       "   unemployment_95  unemployment_96  entrepreneurs_1000  n_crime_95  \\\n",
       "0             0.29             0.43                 167       85677   \n",
       "1             1.67             1.85                 132        2159   \n",
       "2             1.95             2.21                 111        2824   \n",
       "3             4.64             5.05                 109        5244   \n",
       "4             3.85             4.43                 118        2616   \n",
       "\n",
       "   n_crime_96  crimes_per_1000  \n",
       "0       99107        82.249681  \n",
       "1        2674        30.084155  \n",
       "2        2813        37.391004  \n",
       "3        5892        39.308040  \n",
       "4        3040        31.793842  "
      ]
     },
     "execution_count": 117,
     "metadata": {},
     "output_type": "execute_result"
    }
   ],
   "source": [
    "demographics.head()"
   ]
  },
  {
   "cell_type": "code",
   "execution_count": 8,
   "metadata": {},
   "outputs": [
    {
     "data": {
      "text/plain": [
       "count         77.00\n",
       "mean      133884.90\n",
       "std       136913.46\n",
       "min        42821.00\n",
       "25%        85852.00\n",
       "50%       108871.00\n",
       "75%       139012.00\n",
       "max      1204953.00\n",
       "Name: n_inhabitants, dtype: float64"
      ]
     },
     "execution_count": 8,
     "metadata": {},
     "output_type": "execute_result"
    }
   ],
   "source": [
    "demographics['n_inhabitants'].describe().round(2)"
   ]
  },
  {
   "cell_type": "code",
   "execution_count": 9,
   "metadata": {},
   "outputs": [
    {
     "data": {
      "text/plain": [
       "count    76.00\n",
       "mean      3.12\n",
       "std       1.67\n",
       "min       0.29\n",
       "25%       1.79\n",
       "50%       2.82\n",
       "75%       3.89\n",
       "max       7.34\n",
       "Name: unemployment_95, dtype: float64"
      ]
     },
     "execution_count": 9,
     "metadata": {},
     "output_type": "execute_result"
    }
   ],
   "source": [
    "demographics['unemployment_95'].describe().round(2)"
   ]
  },
  {
   "cell_type": "code",
   "execution_count": 10,
   "metadata": {},
   "outputs": [
    {
     "data": {
      "text/html": [
       "<div>\n",
       "<table border=\"1\" class=\"dataframe\">\n",
       "  <thead>\n",
       "    <tr style=\"text-align: right;\">\n",
       "      <th></th>\n",
       "      <th>n_inhabitants</th>\n",
       "      <th>avg_salary</th>\n",
       "      <th>unemployment_95</th>\n",
       "      <th>unemployment_96</th>\n",
       "      <th>entrepreneurs_1000</th>\n",
       "      <th>n_crime_95</th>\n",
       "      <th>n_crime_96</th>\n",
       "    </tr>\n",
       "  </thead>\n",
       "  <tbody>\n",
       "    <tr>\n",
       "      <th>count</th>\n",
       "      <td>77.00</td>\n",
       "      <td>77.00</td>\n",
       "      <td>76.00</td>\n",
       "      <td>77.00</td>\n",
       "      <td>77.00</td>\n",
       "      <td>76.00</td>\n",
       "      <td>77.00</td>\n",
       "    </tr>\n",
       "    <tr>\n",
       "      <th>mean</th>\n",
       "      <td>133884.90</td>\n",
       "      <td>9031.68</td>\n",
       "      <td>3.12</td>\n",
       "      <td>3.79</td>\n",
       "      <td>116.13</td>\n",
       "      <td>4850.32</td>\n",
       "      <td>5030.83</td>\n",
       "    </tr>\n",
       "    <tr>\n",
       "      <th>std</th>\n",
       "      <td>136913.46</td>\n",
       "      <td>790.20</td>\n",
       "      <td>1.67</td>\n",
       "      <td>1.91</td>\n",
       "      <td>16.61</td>\n",
       "      <td>9888.95</td>\n",
       "      <td>11270.80</td>\n",
       "    </tr>\n",
       "    <tr>\n",
       "      <th>min</th>\n",
       "      <td>42821.00</td>\n",
       "      <td>8110.00</td>\n",
       "      <td>0.29</td>\n",
       "      <td>0.43</td>\n",
       "      <td>81.00</td>\n",
       "      <td>818.00</td>\n",
       "      <td>888.00</td>\n",
       "    </tr>\n",
       "    <tr>\n",
       "      <th>25%</th>\n",
       "      <td>85852.00</td>\n",
       "      <td>8512.00</td>\n",
       "      <td>1.79</td>\n",
       "      <td>2.31</td>\n",
       "      <td>105.00</td>\n",
       "      <td>2029.75</td>\n",
       "      <td>2122.00</td>\n",
       "    </tr>\n",
       "    <tr>\n",
       "      <th>50%</th>\n",
       "      <td>108871.00</td>\n",
       "      <td>8814.00</td>\n",
       "      <td>2.82</td>\n",
       "      <td>3.60</td>\n",
       "      <td>113.00</td>\n",
       "      <td>2932.00</td>\n",
       "      <td>3040.00</td>\n",
       "    </tr>\n",
       "    <tr>\n",
       "      <th>75%</th>\n",
       "      <td>139012.00</td>\n",
       "      <td>9317.00</td>\n",
       "      <td>3.89</td>\n",
       "      <td>4.79</td>\n",
       "      <td>126.00</td>\n",
       "      <td>4525.50</td>\n",
       "      <td>4595.00</td>\n",
       "    </tr>\n",
       "    <tr>\n",
       "      <th>max</th>\n",
       "      <td>1204953.00</td>\n",
       "      <td>12541.00</td>\n",
       "      <td>7.34</td>\n",
       "      <td>9.40</td>\n",
       "      <td>167.00</td>\n",
       "      <td>85677.00</td>\n",
       "      <td>99107.00</td>\n",
       "    </tr>\n",
       "  </tbody>\n",
       "</table>\n",
       "</div>"
      ],
      "text/plain": [
       "       n_inhabitants  avg_salary  unemployment_95  unemployment_96  \\\n",
       "count          77.00       77.00            76.00            77.00   \n",
       "mean       133884.90     9031.68             3.12             3.79   \n",
       "std        136913.46      790.20             1.67             1.91   \n",
       "min         42821.00     8110.00             0.29             0.43   \n",
       "25%         85852.00     8512.00             1.79             2.31   \n",
       "50%        108871.00     8814.00             2.82             3.60   \n",
       "75%        139012.00     9317.00             3.89             4.79   \n",
       "max       1204953.00    12541.00             7.34             9.40   \n",
       "\n",
       "       entrepreneurs_1000  n_crime_95  n_crime_96  \n",
       "count               77.00       76.00       77.00  \n",
       "mean               116.13     4850.32     5030.83  \n",
       "std                 16.61     9888.95    11270.80  \n",
       "min                 81.00      818.00      888.00  \n",
       "25%                105.00     2029.75     2122.00  \n",
       "50%                113.00     2932.00     3040.00  \n",
       "75%                126.00     4525.50     4595.00  \n",
       "max                167.00    85677.00    99107.00  "
      ]
     },
     "execution_count": 10,
     "metadata": {},
     "output_type": "execute_result"
    }
   ],
   "source": [
    "demographics.loc[:,'n_inhabitants':].describe().round(2)"
   ]
  },
  {
   "cell_type": "code",
   "execution_count": 11,
   "metadata": {},
   "outputs": [
    {
     "data": {
      "text/plain": [
       "district_id             int64\n",
       "dist_name              object\n",
       "region                 object\n",
       "n_inhabitants           int64\n",
       "avg_salary              int64\n",
       "unemployment_95       float64\n",
       "unemployment_96       float64\n",
       "entrepreneurs_1000      int64\n",
       "n_crime_95            float64\n",
       "n_crime_96              int64\n",
       "dtype: object"
      ]
     },
     "execution_count": 11,
     "metadata": {},
     "output_type": "execute_result"
    }
   ],
   "source": [
    "demographics.dtypes"
   ]
  },
  {
   "cell_type": "code",
   "execution_count": 12,
   "metadata": {},
   "outputs": [
    {
     "data": {
      "text/plain": [
       "district_id           62\n",
       "dist_name             62\n",
       "region                62\n",
       "n_inhabitants         62\n",
       "avg_salary            62\n",
       "unemployment_95       61\n",
       "unemployment_96       62\n",
       "entrepreneurs_1000    62\n",
       "n_crime_95            61\n",
       "n_crime_96            62\n",
       "dtype: int64"
      ]
     },
     "execution_count": 12,
     "metadata": {},
     "output_type": "execute_result"
    }
   ],
   "source": [
    "demographics[demographics['n_crime_96']<=5030.83].count()"
   ]
  },
  {
   "cell_type": "markdown",
   "metadata": {},
   "source": [
    "##### A Distribution of crimes in 1996:"
   ]
  },
  {
   "cell_type": "code",
   "execution_count": 13,
   "metadata": {},
   "outputs": [
    {
     "data": {
      "text/plain": [
       "<matplotlib.text.Annotation at 0x7f7441c73588>"
      ]
     },
     "execution_count": 13,
     "metadata": {},
     "output_type": "execute_result"
    },
    {
     "data": {
      "image/png": "[encoded data removed]",
      "text/plain": [
       "<matplotlib.figure.Figure at 0x7f7442712ba8>"
      ]
     },
     "metadata": {},
     "output_type": "display_data"
    }
   ],
   "source": [
    "sns.set_context(\"talk\")\n",
    "sns.set_style('white')\n",
    "sns.set_style('ticks')\n",
    "avg_crimes_96=np.mean(demographics['n_crime_96'])\n",
    "ax = sns.distplot(demographics['n_crime_96'],hist=True,norm_hist=False,kde=True, axlabel=\"No. of crimes '96\",bins=100)\n",
    "avg_val=ax.axvline(x=avg_crimes_96,alpha=0.75,ls='dashed',label=\"Avg. no. of crimes '96\",c='r')\n",
    "ax.set_xlim(0,)\n",
    "ax.set_xticks(list(ax.get_xticks()) + [avg_crimes_96])\n",
    "#ax.legend(handles=[avg_val])\n",
    "plt.annotate(\"Avg. no. of crimes '96\",xy=(avg_crimes_96,ax.get_ylim()[1]*0.75),xytext=(avg_crimes_96+10000,ax.get_ylim()[1]*0.75),xycoords='data',\n",
    "            arrowprops=dict(facecolor='red', arrowstyle='simple'),)\n",
    "#shrink=0.05,\n",
    "#plt.show()"
   ]
  },
  {
   "cell_type": "code",
   "execution_count": 14,
   "metadata": {},
   "outputs": [],
   "source": [
    "high_crime_dist=demographics[demographics['n_crime_96']>=avg_crimes_96]"
   ]
  },
  {
   "cell_type": "code",
   "execution_count": 15,
   "metadata": {},
   "outputs": [],
   "source": [
    "demographics['crimes_per_1000']=demographics.apply(lambda x: x['n_crime_96']*1000/x['n_inhabitants'],axis=1)"
   ]
  },
  {
   "cell_type": "code",
   "execution_count": 16,
   "metadata": {
    "scrolled": true
   },
   "outputs": [
    {
     "data": {
      "text/html": [
       "<div>\n",
       "<table border=\"1\" class=\"dataframe\">\n",
       "  <thead>\n",
       "    <tr style=\"text-align: right;\">\n",
       "      <th></th>\n",
       "      <th>district_id</th>\n",
       "      <th>dist_name</th>\n",
       "      <th>region</th>\n",
       "      <th>n_inhabitants</th>\n",
       "      <th>avg_salary</th>\n",
       "      <th>unemployment_95</th>\n",
       "      <th>unemployment_96</th>\n",
       "      <th>entrepreneurs_1000</th>\n",
       "      <th>n_crime_95</th>\n",
       "      <th>n_crime_96</th>\n",
       "      <th>crimes_per_1000</th>\n",
       "    </tr>\n",
       "  </thead>\n",
       "  <tbody>\n",
       "    <tr>\n",
       "      <th>0</th>\n",
       "      <td>1</td>\n",
       "      <td>Hl.m. Praha</td>\n",
       "      <td>Prague</td>\n",
       "      <td>1204953</td>\n",
       "      <td>12541</td>\n",
       "      <td>0.29</td>\n",
       "      <td>0.43</td>\n",
       "      <td>167</td>\n",
       "      <td>85677</td>\n",
       "      <td>99107</td>\n",
       "      <td>82.249681</td>\n",
       "    </tr>\n",
       "    <tr>\n",
       "      <th>1</th>\n",
       "      <td>2</td>\n",
       "      <td>Benesov</td>\n",
       "      <td>central Bohemia</td>\n",
       "      <td>88884</td>\n",
       "      <td>8507</td>\n",
       "      <td>1.67</td>\n",
       "      <td>1.85</td>\n",
       "      <td>132</td>\n",
       "      <td>2159</td>\n",
       "      <td>2674</td>\n",
       "      <td>30.084155</td>\n",
       "    </tr>\n",
       "    <tr>\n",
       "      <th>2</th>\n",
       "      <td>3</td>\n",
       "      <td>Beroun</td>\n",
       "      <td>central Bohemia</td>\n",
       "      <td>75232</td>\n",
       "      <td>8980</td>\n",
       "      <td>1.95</td>\n",
       "      <td>2.21</td>\n",
       "      <td>111</td>\n",
       "      <td>2824</td>\n",
       "      <td>2813</td>\n",
       "      <td>37.391004</td>\n",
       "    </tr>\n",
       "    <tr>\n",
       "      <th>3</th>\n",
       "      <td>4</td>\n",
       "      <td>Kladno</td>\n",
       "      <td>central Bohemia</td>\n",
       "      <td>149893</td>\n",
       "      <td>9753</td>\n",
       "      <td>4.64</td>\n",
       "      <td>5.05</td>\n",
       "      <td>109</td>\n",
       "      <td>5244</td>\n",
       "      <td>5892</td>\n",
       "      <td>39.308040</td>\n",
       "    </tr>\n",
       "    <tr>\n",
       "      <th>4</th>\n",
       "      <td>5</td>\n",
       "      <td>Kolin</td>\n",
       "      <td>central Bohemia</td>\n",
       "      <td>95616</td>\n",
       "      <td>9307</td>\n",
       "      <td>3.85</td>\n",
       "      <td>4.43</td>\n",
       "      <td>118</td>\n",
       "      <td>2616</td>\n",
       "      <td>3040</td>\n",
       "      <td>31.793842</td>\n",
       "    </tr>\n",
       "  </tbody>\n",
       "</table>\n",
       "</div>"
      ],
      "text/plain": [
       "   district_id    dist_name           region  n_inhabitants  avg_salary  \\\n",
       "0            1  Hl.m. Praha           Prague        1204953       12541   \n",
       "1            2      Benesov  central Bohemia          88884        8507   \n",
       "2            3       Beroun  central Bohemia          75232        8980   \n",
       "3            4       Kladno  central Bohemia         149893        9753   \n",
       "4            5        Kolin  central Bohemia          95616        9307   \n",
       "\n",
       "   unemployment_95  unemployment_96  entrepreneurs_1000  n_crime_95  \\\n",
       "0             0.29             0.43                 167       85677   \n",
       "1             1.67             1.85                 132        2159   \n",
       "2             1.95             2.21                 111        2824   \n",
       "3             4.64             5.05                 109        5244   \n",
       "4             3.85             4.43                 118        2616   \n",
       "\n",
       "   n_crime_96  crimes_per_1000  \n",
       "0       99107        82.249681  \n",
       "1        2674        30.084155  \n",
       "2        2813        37.391004  \n",
       "3        5892        39.308040  \n",
       "4        3040        31.793842  "
      ]
     },
     "execution_count": 16,
     "metadata": {},
     "output_type": "execute_result"
    }
   ],
   "source": [
    "demographics.head()"
   ]
  },
  {
   "cell_type": "markdown",
   "metadata": {},
   "source": [
    "##### Distribution of Crime rates in 1996:"
   ]
  },
  {
   "cell_type": "code",
   "execution_count": 17,
   "metadata": {},
   "outputs": [
    {
     "data": {
      "text/plain": [
       "<matplotlib.text.Annotation at 0x7f74420594e0>"
      ]
     },
     "execution_count": 17,
     "metadata": {},
     "output_type": "execute_result"
    },
    {
     "data": {
      "image/png": "[encoded data removed]",
      "text/plain": [
       "<matplotlib.figure.Figure at 0x7f74421e2c18>"
      ]
     },
     "metadata": {},
     "output_type": "display_data"
    }
   ],
   "source": [
    "avg_crime_rt_96=np.mean(demographics['crimes_per_1000'])\n",
    "ax = sns.distplot(demographics['crimes_per_1000'],hist=True,norm_hist=False,kde=True, axlabel=\"Crimes per 1000 inhabitants '96\",bins=20)\n",
    "avg_val=ax.axvline(x=avg_crime_rt_96,alpha=0.75,ls='dashed',label=\"Avg. Crimes per 1000 inhabitants '96\",c='r')\n",
    "std_crime_rt_96=np.std(demographics['crimes_per_1000'])\n",
    "sd1_val=ax.axvline(x=avg_crime_rt_96+std_crime_rt_96,alpha=0.4,ls='dashed',c='r')\n",
    "sd2_val=ax.axvline(x=avg_crime_rt_96+2*std_crime_rt_96,alpha=0.2,ls='dashed',c='r')\n",
    "ax.set_xlim(0,)\n",
    "ax.set_xticks(list(ax.get_xticks()) + [round(avg_crime_rt_96),round(avg_crime_rt_96+std_crime_rt_96),round(avg_crime_rt_96+2*std_crime_rt_96)])\n",
    "#ax.legend(handles=[avg_val])\n",
    "plt.annotate(\"Avg. Crimes per 1000 '96\",xy=(avg_crime_rt_96,ax.get_ylim()[1]*0.75),xytext=(avg_crime_rt_96+4,ax.get_ylim()[1]*0.75),xycoords='data',\n",
    "            arrowprops=dict(facecolor='red', arrowstyle='simple'),)\n",
    "plt.annotate(\"Avg. + 1 SD\",xy=(avg_crime_rt_96+std_crime_rt_96,ax.get_ylim()[1]*0.7),xytext=(avg_crime_rt_96+std_crime_rt_96+4,ax.get_ylim()[1]*0.7),xycoords='data',\n",
    "            arrowprops=dict(facecolor='red', arrowstyle='simple'),)\n",
    "plt.annotate(\"Avg. + 2 SD\",xy=(avg_crime_rt_96+2*std_crime_rt_96,ax.get_ylim()[1]*0.65),xytext=(avg_crime_rt_96+2*std_crime_rt_96+4,ax.get_ylim()[1]*0.65),xycoords='data',\n",
    "            arrowprops=dict(facecolor='red', arrowstyle='simple'),)"
   ]
  },
  {
   "cell_type": "code",
   "execution_count": 18,
   "metadata": {},
   "outputs": [],
   "source": [
    "high_crime_rt_dist=demographics[demographics['crimes_per_1000']>=avg_crime_rt_96+std_crime_rt_96]"
   ]
  },
  {
   "cell_type": "code",
   "execution_count": 19,
   "metadata": {
    "scrolled": true
   },
   "outputs": [
    {
     "data": {
      "text/plain": [
       "11"
      ]
     },
     "execution_count": 19,
     "metadata": {},
     "output_type": "execute_result"
    }
   ],
   "source": [
    "len(high_crime_rt_dist)#.count()"
   ]
  },
  {
   "cell_type": "code",
   "execution_count": 20,
   "metadata": {},
   "outputs": [],
   "source": [
    "#pd.pivot(demographics,index=['region','dist_name','district_id'],\\\n",
    "#              columns=[''])"
   ]
  },
  {
   "cell_type": "code",
   "execution_count": 21,
   "metadata": {},
   "outputs": [
    {
     "data": {
      "text/plain": [
       "5369"
      ]
     },
     "execution_count": 21,
     "metadata": {},
     "output_type": "execute_result"
    }
   ],
   "source": [
    "disp['client_id'].nunique()"
   ]
  },
  {
   "cell_type": "code",
   "execution_count": 22,
   "metadata": {},
   "outputs": [
    {
     "data": {
      "text/plain": [
       "4500"
      ]
     },
     "execution_count": 22,
     "metadata": {},
     "output_type": "execute_result"
    }
   ],
   "source": [
    "disp['account_id'].nunique()"
   ]
  },
  {
   "cell_type": "code",
   "execution_count": 23,
   "metadata": {},
   "outputs": [
    {
     "data": {
      "text/plain": [
       "5369"
      ]
     },
     "execution_count": 23,
     "metadata": {},
     "output_type": "execute_result"
    }
   ],
   "source": [
    "len(disp)"
   ]
  },
  {
   "cell_type": "code",
   "execution_count": 24,
   "metadata": {},
   "outputs": [
    {
     "data": {
      "text/plain": [
       "5369"
      ]
     },
     "execution_count": 24,
     "metadata": {},
     "output_type": "execute_result"
    }
   ],
   "source": [
    "len(client)"
   ]
  },
  {
   "cell_type": "code",
   "execution_count": 25,
   "metadata": {},
   "outputs": [
    {
     "data": {
      "text/plain": [
       "4500"
      ]
     },
     "execution_count": 25,
     "metadata": {},
     "output_type": "execute_result"
    }
   ],
   "source": [
    "len(account)"
   ]
  },
  {
   "cell_type": "markdown",
   "metadata": {},
   "source": [
    "### Loan Data Analysis:"
   ]
  },
  {
   "cell_type": "code",
   "execution_count": 26,
   "metadata": {
    "scrolled": true
   },
   "outputs": [
    {
     "data": {
      "text/html": [
       "<div>\n",
       "<table border=\"1\" class=\"dataframe\">\n",
       "  <thead>\n",
       "    <tr style=\"text-align: right;\">\n",
       "      <th></th>\n",
       "      <th>loan_id</th>\n",
       "      <th>account_id</th>\n",
       "      <th>date</th>\n",
       "      <th>amount</th>\n",
       "      <th>duration</th>\n",
       "      <th>payments</th>\n",
       "      <th>status</th>\n",
       "    </tr>\n",
       "  </thead>\n",
       "  <tbody>\n",
       "    <tr>\n",
       "      <th>0</th>\n",
       "      <td>5314</td>\n",
       "      <td>1787</td>\n",
       "      <td>1993-07-05</td>\n",
       "      <td>96396</td>\n",
       "      <td>12</td>\n",
       "      <td>8033</td>\n",
       "      <td>B</td>\n",
       "    </tr>\n",
       "    <tr>\n",
       "      <th>1</th>\n",
       "      <td>5316</td>\n",
       "      <td>1801</td>\n",
       "      <td>1993-07-11</td>\n",
       "      <td>165960</td>\n",
       "      <td>36</td>\n",
       "      <td>4610</td>\n",
       "      <td>A</td>\n",
       "    </tr>\n",
       "    <tr>\n",
       "      <th>2</th>\n",
       "      <td>6863</td>\n",
       "      <td>9188</td>\n",
       "      <td>1993-07-28</td>\n",
       "      <td>127080</td>\n",
       "      <td>60</td>\n",
       "      <td>2118</td>\n",
       "      <td>A</td>\n",
       "    </tr>\n",
       "    <tr>\n",
       "      <th>3</th>\n",
       "      <td>5325</td>\n",
       "      <td>1843</td>\n",
       "      <td>1993-08-03</td>\n",
       "      <td>105804</td>\n",
       "      <td>36</td>\n",
       "      <td>2939</td>\n",
       "      <td>A</td>\n",
       "    </tr>\n",
       "    <tr>\n",
       "      <th>4</th>\n",
       "      <td>7240</td>\n",
       "      <td>11013</td>\n",
       "      <td>1993-09-06</td>\n",
       "      <td>274740</td>\n",
       "      <td>60</td>\n",
       "      <td>4579</td>\n",
       "      <td>A</td>\n",
       "    </tr>\n",
       "  </tbody>\n",
       "</table>\n",
       "</div>"
      ],
      "text/plain": [
       "   loan_id  account_id       date  amount  duration  payments status\n",
       "0     5314        1787 1993-07-05   96396        12      8033      B\n",
       "1     5316        1801 1993-07-11  165960        36      4610      A\n",
       "2     6863        9188 1993-07-28  127080        60      2118      A\n",
       "3     5325        1843 1993-08-03  105804        36      2939      A\n",
       "4     7240       11013 1993-09-06  274740        60      4579      A"
      ]
     },
     "execution_count": 26,
     "metadata": {},
     "output_type": "execute_result"
    }
   ],
   "source": [
    "loan.head()"
   ]
  },
  {
   "cell_type": "code",
   "execution_count": 27,
   "metadata": {},
   "outputs": [],
   "source": [
    "loan['status_desc']=loan['status'].map({'A':'Good_Closed','B':'Bad_Closed','C':'Good_Open','D':'Bad_Open'})"
   ]
  },
  {
   "cell_type": "code",
   "execution_count": 28,
   "metadata": {},
   "outputs": [
    {
     "data": {
      "text/html": [
       "<div>\n",
       "<table border=\"1\" class=\"dataframe\">\n",
       "  <thead>\n",
       "    <tr style=\"text-align: right;\">\n",
       "      <th></th>\n",
       "      <th>loan_id</th>\n",
       "      <th>account_id</th>\n",
       "      <th>date</th>\n",
       "      <th>amount</th>\n",
       "      <th>duration</th>\n",
       "      <th>payments</th>\n",
       "      <th>status</th>\n",
       "      <th>status_desc</th>\n",
       "    </tr>\n",
       "  </thead>\n",
       "  <tbody>\n",
       "    <tr>\n",
       "      <th>0</th>\n",
       "      <td>5314</td>\n",
       "      <td>1787</td>\n",
       "      <td>1993-07-05</td>\n",
       "      <td>96396</td>\n",
       "      <td>12</td>\n",
       "      <td>8033</td>\n",
       "      <td>B</td>\n",
       "      <td>Bad_Closed</td>\n",
       "    </tr>\n",
       "    <tr>\n",
       "      <th>1</th>\n",
       "      <td>5316</td>\n",
       "      <td>1801</td>\n",
       "      <td>1993-07-11</td>\n",
       "      <td>165960</td>\n",
       "      <td>36</td>\n",
       "      <td>4610</td>\n",
       "      <td>A</td>\n",
       "      <td>Good_Closed</td>\n",
       "    </tr>\n",
       "    <tr>\n",
       "      <th>2</th>\n",
       "      <td>6863</td>\n",
       "      <td>9188</td>\n",
       "      <td>1993-07-28</td>\n",
       "      <td>127080</td>\n",
       "      <td>60</td>\n",
       "      <td>2118</td>\n",
       "      <td>A</td>\n",
       "      <td>Good_Closed</td>\n",
       "    </tr>\n",
       "    <tr>\n",
       "      <th>3</th>\n",
       "      <td>5325</td>\n",
       "      <td>1843</td>\n",
       "      <td>1993-08-03</td>\n",
       "      <td>105804</td>\n",
       "      <td>36</td>\n",
       "      <td>2939</td>\n",
       "      <td>A</td>\n",
       "      <td>Good_Closed</td>\n",
       "    </tr>\n",
       "    <tr>\n",
       "      <th>4</th>\n",
       "      <td>7240</td>\n",
       "      <td>11013</td>\n",
       "      <td>1993-09-06</td>\n",
       "      <td>274740</td>\n",
       "      <td>60</td>\n",
       "      <td>4579</td>\n",
       "      <td>A</td>\n",
       "      <td>Good_Closed</td>\n",
       "    </tr>\n",
       "  </tbody>\n",
       "</table>\n",
       "</div>"
      ],
      "text/plain": [
       "   loan_id  account_id       date  amount  duration  payments status  \\\n",
       "0     5314        1787 1993-07-05   96396        12      8033      B   \n",
       "1     5316        1801 1993-07-11  165960        36      4610      A   \n",
       "2     6863        9188 1993-07-28  127080        60      2118      A   \n",
       "3     5325        1843 1993-08-03  105804        36      2939      A   \n",
       "4     7240       11013 1993-09-06  274740        60      4579      A   \n",
       "\n",
       "   status_desc  \n",
       "0   Bad_Closed  \n",
       "1  Good_Closed  \n",
       "2  Good_Closed  \n",
       "3  Good_Closed  \n",
       "4  Good_Closed  "
      ]
     },
     "execution_count": 28,
     "metadata": {},
     "output_type": "execute_result"
    }
   ],
   "source": [
    "loan.head()"
   ]
  },
  {
   "cell_type": "code",
   "execution_count": 29,
   "metadata": {},
   "outputs": [],
   "source": [
    "bad_loans=loan[loan['status'].isin(['B','D'])]"
   ]
  },
  {
   "cell_type": "markdown",
   "metadata": {},
   "source": [
    "##### Plots of Counts and Amount of different Types of Loans and Durations:"
   ]
  },
  {
   "cell_type": "code",
   "execution_count": 30,
   "metadata": {
    "scrolled": true
   },
   "outputs": [
    {
     "data": {
      "text/plain": [
       "<seaborn.axisgrid.FacetGrid at 0x7f74422acc18>"
      ]
     },
     "execution_count": 30,
     "metadata": {},
     "output_type": "execute_result"
    },
    {
     "data": {
      "image/png": "[encoded data removed]",
      "text/plain": [
       "<matplotlib.figure.Figure at 0x7f74422bfac8>"
      ]
     },
     "metadata": {},
     "output_type": "display_data"
    }
   ],
   "source": [
    "sns.set_context(\"talk\")\n",
    "sns.factorplot(x='duration',hue='status_desc',y=None,data=loan,kind='count',hue_order=['Good_Closed','Bad_Closed','Good_Open','Bad_Open'],size=5)\n",
    "#,palette='Paired')"
   ]
  },
  {
   "cell_type": "code",
   "execution_count": 31,
   "metadata": {},
   "outputs": [
    {
     "data": {
      "text/plain": [
       "<seaborn.axisgrid.FacetGrid at 0x7f7441fa06a0>"
      ]
     },
     "execution_count": 31,
     "metadata": {},
     "output_type": "execute_result"
    },
    {
     "data": {
      "image/png": "[encoded data removed]",
      "text/plain": [
       "<matplotlib.figure.Figure at 0x7f7441fa0668>"
      ]
     },
     "metadata": {},
     "output_type": "display_data"
    }
   ],
   "source": [
    "sns.factorplot(x='duration',hue='status_desc',y='amount',data=loan,kind='bar',hue_order=['Good_Closed','Bad_Closed','Good_Open','Bad_Open'],size=5)"
   ]
  },
  {
   "cell_type": "code",
   "execution_count": 32,
   "metadata": {},
   "outputs": [],
   "source": [
    "loan_summary=pd.pivot_table(loan,values='amount',index=['status_desc'],columns=['duration'],aggfunc=[len,np.sum,np.mean],margins=True)"
   ]
  },
  {
   "cell_type": "code",
   "execution_count": 33,
   "metadata": {},
   "outputs": [
    {
     "data": {
      "text/html": [
       "<div>\n",
       "<table border=\"1\" class=\"dataframe\">\n",
       "  <thead>\n",
       "    <tr>\n",
       "      <th></th>\n",
       "      <th colspan=\"6\" halign=\"left\">len</th>\n",
       "      <th colspan=\"6\" halign=\"left\">sum</th>\n",
       "      <th colspan=\"6\" halign=\"left\">mean</th>\n",
       "    </tr>\n",
       "    <tr>\n",
       "      <th>duration</th>\n",
       "      <th>12</th>\n",
       "      <th>24</th>\n",
       "      <th>36</th>\n",
       "      <th>48</th>\n",
       "      <th>60</th>\n",
       "      <th>All</th>\n",
       "      <th>12</th>\n",
       "      <th>24</th>\n",
       "      <th>36</th>\n",
       "      <th>48</th>\n",
       "      <th>60</th>\n",
       "      <th>All</th>\n",
       "      <th>12</th>\n",
       "      <th>24</th>\n",
       "      <th>36</th>\n",
       "      <th>48</th>\n",
       "      <th>60</th>\n",
       "      <th>All</th>\n",
       "    </tr>\n",
       "    <tr>\n",
       "      <th>status_desc</th>\n",
       "      <th></th>\n",
       "      <th></th>\n",
       "      <th></th>\n",
       "      <th></th>\n",
       "      <th></th>\n",
       "      <th></th>\n",
       "      <th></th>\n",
       "      <th></th>\n",
       "      <th></th>\n",
       "      <th></th>\n",
       "      <th></th>\n",
       "      <th></th>\n",
       "      <th></th>\n",
       "      <th></th>\n",
       "      <th></th>\n",
       "      <th></th>\n",
       "      <th></th>\n",
       "      <th></th>\n",
       "    </tr>\n",
       "  </thead>\n",
       "  <tbody>\n",
       "    <tr>\n",
       "      <th>Bad_Closed</th>\n",
       "      <td>10</td>\n",
       "      <td>11</td>\n",
       "      <td>7</td>\n",
       "      <td>2</td>\n",
       "      <td>1</td>\n",
       "      <td>31</td>\n",
       "      <td>584256</td>\n",
       "      <td>1502016</td>\n",
       "      <td>1516212</td>\n",
       "      <td>295344</td>\n",
       "      <td>464520</td>\n",
       "      <td>4362348</td>\n",
       "      <td>58425.600000</td>\n",
       "      <td>136546.909091</td>\n",
       "      <td>216601.714286</td>\n",
       "      <td>147672.000000</td>\n",
       "      <td>464520.00</td>\n",
       "      <td>140720.000000</td>\n",
       "    </tr>\n",
       "    <tr>\n",
       "      <th>Bad_Open</th>\n",
       "      <td>1</td>\n",
       "      <td>6</td>\n",
       "      <td>8</td>\n",
       "      <td>14</td>\n",
       "      <td>16</td>\n",
       "      <td>45</td>\n",
       "      <td>36204</td>\n",
       "      <td>625032</td>\n",
       "      <td>1474380</td>\n",
       "      <td>3963408</td>\n",
       "      <td>5118780</td>\n",
       "      <td>11217804</td>\n",
       "      <td>36204.000000</td>\n",
       "      <td>104172.000000</td>\n",
       "      <td>184297.500000</td>\n",
       "      <td>283100.571429</td>\n",
       "      <td>319923.75</td>\n",
       "      <td>249284.000000</td>\n",
       "    </tr>\n",
       "    <tr>\n",
       "      <th>Good_Closed</th>\n",
       "      <td>93</td>\n",
       "      <td>64</td>\n",
       "      <td>32</td>\n",
       "      <td>11</td>\n",
       "      <td>3</td>\n",
       "      <td>203</td>\n",
       "      <td>5136444</td>\n",
       "      <td>5966688</td>\n",
       "      <td>5108508</td>\n",
       "      <td>1730016</td>\n",
       "      <td>661560</td>\n",
       "      <td>18603216</td>\n",
       "      <td>55230.580645</td>\n",
       "      <td>93229.500000</td>\n",
       "      <td>159640.875000</td>\n",
       "      <td>157274.181818</td>\n",
       "      <td>220520.00</td>\n",
       "      <td>91641.000000</td>\n",
       "    </tr>\n",
       "    <tr>\n",
       "      <th>Good_Open</th>\n",
       "      <td>27</td>\n",
       "      <td>57</td>\n",
       "      <td>83</td>\n",
       "      <td>111</td>\n",
       "      <td>125</td>\n",
       "      <td>403</td>\n",
       "      <td>1269348</td>\n",
       "      <td>5598336</td>\n",
       "      <td>10627164</td>\n",
       "      <td>22383024</td>\n",
       "      <td>29200500</td>\n",
       "      <td>69078372</td>\n",
       "      <td>47012.888889</td>\n",
       "      <td>98216.421053</td>\n",
       "      <td>128038.120482</td>\n",
       "      <td>201648.864865</td>\n",
       "      <td>233604.00</td>\n",
       "      <td>171410.000000</td>\n",
       "    </tr>\n",
       "    <tr>\n",
       "      <th>All</th>\n",
       "      <td>131</td>\n",
       "      <td>138</td>\n",
       "      <td>130</td>\n",
       "      <td>138</td>\n",
       "      <td>145</td>\n",
       "      <td>682</td>\n",
       "      <td>7026252</td>\n",
       "      <td>13692072</td>\n",
       "      <td>18726264</td>\n",
       "      <td>28371792</td>\n",
       "      <td>35445360</td>\n",
       "      <td>103261740</td>\n",
       "      <td>53635.000000</td>\n",
       "      <td>99217.000000</td>\n",
       "      <td>144048.000000</td>\n",
       "      <td>205592.000000</td>\n",
       "      <td>244450.00</td>\n",
       "      <td>151410.175953</td>\n",
       "    </tr>\n",
       "  </tbody>\n",
       "</table>\n",
       "</div>"
      ],
      "text/plain": [
       "             len                               sum                      \\\n",
       "duration      12   24   36   48   60  All       12        24        36   \n",
       "status_desc                                                              \n",
       "Bad_Closed    10   11    7    2    1   31   584256   1502016   1516212   \n",
       "Bad_Open       1    6    8   14   16   45    36204    625032   1474380   \n",
       "Good_Closed   93   64   32   11    3  203  5136444   5966688   5108508   \n",
       "Good_Open     27   57   83  111  125  403  1269348   5598336  10627164   \n",
       "All          131  138  130  138  145  682  7026252  13692072  18726264   \n",
       "\n",
       "                                                    mean                 \\\n",
       "duration           48        60        All            12             24   \n",
       "status_desc                                                               \n",
       "Bad_Closed     295344    464520    4362348  58425.600000  136546.909091   \n",
       "Bad_Open      3963408   5118780   11217804  36204.000000  104172.000000   \n",
       "Good_Closed   1730016    661560   18603216  55230.580645   93229.500000   \n",
       "Good_Open    22383024  29200500   69078372  47012.888889   98216.421053   \n",
       "All          28371792  35445360  103261740  53635.000000   99217.000000   \n",
       "\n",
       "                                                                     \n",
       "duration                36             48         60            All  \n",
       "status_desc                                                          \n",
       "Bad_Closed   216601.714286  147672.000000  464520.00  140720.000000  \n",
       "Bad_Open     184297.500000  283100.571429  319923.75  249284.000000  \n",
       "Good_Closed  159640.875000  157274.181818  220520.00   91641.000000  \n",
       "Good_Open    128038.120482  201648.864865  233604.00  171410.000000  \n",
       "All          144048.000000  205592.000000  244450.00  151410.175953  "
      ]
     },
     "execution_count": 33,
     "metadata": {},
     "output_type": "execute_result"
    }
   ],
   "source": [
    "loan_summary"
   ]
  },
  {
   "cell_type": "code",
   "execution_count": 34,
   "metadata": {},
   "outputs": [
    {
     "data": {
      "text/plain": [
       "682"
      ]
     },
     "execution_count": 34,
     "metadata": {},
     "output_type": "execute_result"
    }
   ],
   "source": [
    "loan['loan_id'].nunique()"
   ]
  },
  {
   "cell_type": "markdown",
   "metadata": {},
   "source": [
    "### Wire and Cash Transactions Analysis:"
   ]
  },
  {
   "cell_type": "code",
   "execution_count": 35,
   "metadata": {},
   "outputs": [],
   "source": [
    "txns_acct_loc=pd.merge(trans,account[['account_id','district_id']],on='account_id',how='left').rename(columns={'district_id':'acct_dist_id'})\n",
    "#txns_location=pd.merge(txns_acct_loc,client[['client_id','district_id']],on='client_id',how='left')"
   ]
  },
  {
   "cell_type": "code",
   "execution_count": 36,
   "metadata": {},
   "outputs": [],
   "source": [
    "cash_txns=txns_acct_loc[txns_acct_loc['operation'].isin(['VKLAD','VYBER'])]\n",
    "#cash_txns[cash_txns['amount']>=10000]\n"
   ]
  },
  {
   "cell_type": "code",
   "execution_count": 37,
   "metadata": {},
   "outputs": [
    {
     "data": {
      "text/plain": [
       "16447"
      ]
     },
     "execution_count": 37,
     "metadata": {},
     "output_type": "execute_result"
    }
   ],
   "source": [
    "cash_txns_93=cash_txns[cash_txns['date'].dt.year==1993]\n",
    "len(cash_txns_93)\n",
    "\n"
   ]
  },
  {
   "cell_type": "code",
   "execution_count": 38,
   "metadata": {},
   "outputs": [
    {
     "data": {
      "text/plain": [
       "array([1993, 1994, 1995, 1996, 1997, 1998])"
      ]
     },
     "execution_count": 38,
     "metadata": {},
     "output_type": "execute_result"
    }
   ],
   "source": [
    "cash_txns['date'].dt.year.unique()\n"
   ]
  },
  {
   "cell_type": "code",
   "execution_count": 39,
   "metadata": {},
   "outputs": [],
   "source": [
    "cash_txns['year']=cash_txns['date'].dt.year"
   ]
  },
  {
   "cell_type": "code",
   "execution_count": 40,
   "metadata": {},
   "outputs": [
    {
     "data": {
      "text/html": [
       "<div>\n",
       "<table border=\"1\" class=\"dataframe\">\n",
       "  <thead>\n",
       "    <tr style=\"text-align: right;\">\n",
       "      <th></th>\n",
       "      <th>amount</th>\n",
       "    </tr>\n",
       "    <tr>\n",
       "      <th>acct_dist_id</th>\n",
       "      <th></th>\n",
       "    </tr>\n",
       "  </thead>\n",
       "  <tbody>\n",
       "    <tr>\n",
       "      <th>1</th>\n",
       "      <td>20468785.0</td>\n",
       "    </tr>\n",
       "    <tr>\n",
       "      <th>74</th>\n",
       "      <td>7848472.8</td>\n",
       "    </tr>\n",
       "    <tr>\n",
       "      <th>70</th>\n",
       "      <td>6438958.8</td>\n",
       "    </tr>\n",
       "    <tr>\n",
       "      <th>68</th>\n",
       "      <td>5703819.6</td>\n",
       "    </tr>\n",
       "    <tr>\n",
       "      <th>64</th>\n",
       "      <td>4839704.0</td>\n",
       "    </tr>\n",
       "    <tr>\n",
       "      <th>54</th>\n",
       "      <td>4619109.6</td>\n",
       "    </tr>\n",
       "    <tr>\n",
       "      <th>6</th>\n",
       "      <td>3485508.4</td>\n",
       "    </tr>\n",
       "    <tr>\n",
       "      <th>21</th>\n",
       "      <td>3451134.0</td>\n",
       "    </tr>\n",
       "    <tr>\n",
       "      <th>7</th>\n",
       "      <td>3396008.6</td>\n",
       "    </tr>\n",
       "    <tr>\n",
       "      <th>44</th>\n",
       "      <td>3113907.9</td>\n",
       "    </tr>\n",
       "    <tr>\n",
       "      <th>60</th>\n",
       "      <td>2987851.1</td>\n",
       "    </tr>\n",
       "    <tr>\n",
       "      <th>72</th>\n",
       "      <td>2900495.1</td>\n",
       "    </tr>\n",
       "    <tr>\n",
       "      <th>10</th>\n",
       "      <td>2852233.4</td>\n",
       "    </tr>\n",
       "    <tr>\n",
       "      <th>38</th>\n",
       "      <td>2759292.2</td>\n",
       "    </tr>\n",
       "    <tr>\n",
       "      <th>16</th>\n",
       "      <td>2606540.8</td>\n",
       "    </tr>\n",
       "    <tr>\n",
       "      <th>66</th>\n",
       "      <td>2517631.8</td>\n",
       "    </tr>\n",
       "    <tr>\n",
       "      <th>52</th>\n",
       "      <td>2489228.8</td>\n",
       "    </tr>\n",
       "    <tr>\n",
       "      <th>75</th>\n",
       "      <td>2468374.2</td>\n",
       "    </tr>\n",
       "    <tr>\n",
       "      <th>73</th>\n",
       "      <td>2316588.0</td>\n",
       "    </tr>\n",
       "    <tr>\n",
       "      <th>67</th>\n",
       "      <td>2292355.0</td>\n",
       "    </tr>\n",
       "    <tr>\n",
       "      <th>31</th>\n",
       "      <td>2244349.4</td>\n",
       "    </tr>\n",
       "    <tr>\n",
       "      <th>24</th>\n",
       "      <td>2231644.8</td>\n",
       "    </tr>\n",
       "    <tr>\n",
       "      <th>12</th>\n",
       "      <td>2226014.8</td>\n",
       "    </tr>\n",
       "    <tr>\n",
       "      <th>33</th>\n",
       "      <td>2198497.2</td>\n",
       "    </tr>\n",
       "    <tr>\n",
       "      <th>19</th>\n",
       "      <td>2086124.8</td>\n",
       "    </tr>\n",
       "    <tr>\n",
       "      <th>69</th>\n",
       "      <td>2038993.3</td>\n",
       "    </tr>\n",
       "    <tr>\n",
       "      <th>55</th>\n",
       "      <td>1990918.9</td>\n",
       "    </tr>\n",
       "    <tr>\n",
       "      <th>27</th>\n",
       "      <td>1898954.8</td>\n",
       "    </tr>\n",
       "    <tr>\n",
       "      <th>40</th>\n",
       "      <td>1868289.8</td>\n",
       "    </tr>\n",
       "    <tr>\n",
       "      <th>11</th>\n",
       "      <td>1827060.1</td>\n",
       "    </tr>\n",
       "    <tr>\n",
       "      <th>...</th>\n",
       "      <td>...</td>\n",
       "    </tr>\n",
       "    <tr>\n",
       "      <th>57</th>\n",
       "      <td>1317802.6</td>\n",
       "    </tr>\n",
       "    <tr>\n",
       "      <th>15</th>\n",
       "      <td>1257716.6</td>\n",
       "    </tr>\n",
       "    <tr>\n",
       "      <th>49</th>\n",
       "      <td>1219282.6</td>\n",
       "    </tr>\n",
       "    <tr>\n",
       "      <th>51</th>\n",
       "      <td>1210733.4</td>\n",
       "    </tr>\n",
       "    <tr>\n",
       "      <th>13</th>\n",
       "      <td>1194654.1</td>\n",
       "    </tr>\n",
       "    <tr>\n",
       "      <th>53</th>\n",
       "      <td>1153420.4</td>\n",
       "    </tr>\n",
       "    <tr>\n",
       "      <th>18</th>\n",
       "      <td>1143925.1</td>\n",
       "    </tr>\n",
       "    <tr>\n",
       "      <th>77</th>\n",
       "      <td>1108952.6</td>\n",
       "    </tr>\n",
       "    <tr>\n",
       "      <th>5</th>\n",
       "      <td>1065550.1</td>\n",
       "    </tr>\n",
       "    <tr>\n",
       "      <th>17</th>\n",
       "      <td>1045428.4</td>\n",
       "    </tr>\n",
       "    <tr>\n",
       "      <th>32</th>\n",
       "      <td>1023813.8</td>\n",
       "    </tr>\n",
       "    <tr>\n",
       "      <th>58</th>\n",
       "      <td>999713.5</td>\n",
       "    </tr>\n",
       "    <tr>\n",
       "      <th>37</th>\n",
       "      <td>972494.4</td>\n",
       "    </tr>\n",
       "    <tr>\n",
       "      <th>29</th>\n",
       "      <td>900429.4</td>\n",
       "    </tr>\n",
       "    <tr>\n",
       "      <th>8</th>\n",
       "      <td>883903.5</td>\n",
       "    </tr>\n",
       "    <tr>\n",
       "      <th>36</th>\n",
       "      <td>867618.3</td>\n",
       "    </tr>\n",
       "    <tr>\n",
       "      <th>22</th>\n",
       "      <td>865339.7</td>\n",
       "    </tr>\n",
       "    <tr>\n",
       "      <th>34</th>\n",
       "      <td>843390.8</td>\n",
       "    </tr>\n",
       "    <tr>\n",
       "      <th>30</th>\n",
       "      <td>797559.1</td>\n",
       "    </tr>\n",
       "    <tr>\n",
       "      <th>4</th>\n",
       "      <td>781867.6</td>\n",
       "    </tr>\n",
       "    <tr>\n",
       "      <th>65</th>\n",
       "      <td>762568.8</td>\n",
       "    </tr>\n",
       "    <tr>\n",
       "      <th>14</th>\n",
       "      <td>759964.8</td>\n",
       "    </tr>\n",
       "    <tr>\n",
       "      <th>2</th>\n",
       "      <td>756659.2</td>\n",
       "    </tr>\n",
       "    <tr>\n",
       "      <th>9</th>\n",
       "      <td>753131.2</td>\n",
       "    </tr>\n",
       "    <tr>\n",
       "      <th>39</th>\n",
       "      <td>735535.7</td>\n",
       "    </tr>\n",
       "    <tr>\n",
       "      <th>76</th>\n",
       "      <td>601873.3</td>\n",
       "    </tr>\n",
       "    <tr>\n",
       "      <th>56</th>\n",
       "      <td>584069.3</td>\n",
       "    </tr>\n",
       "    <tr>\n",
       "      <th>25</th>\n",
       "      <td>490349.6</td>\n",
       "    </tr>\n",
       "    <tr>\n",
       "      <th>26</th>\n",
       "      <td>263405.9</td>\n",
       "    </tr>\n",
       "    <tr>\n",
       "      <th>42</th>\n",
       "      <td>206611.5</td>\n",
       "    </tr>\n",
       "  </tbody>\n",
       "</table>\n",
       "<p>77 rows × 1 columns</p>\n",
       "</div>"
      ],
      "text/plain": [
       "                  amount\n",
       "acct_dist_id            \n",
       "1             20468785.0\n",
       "74             7848472.8\n",
       "70             6438958.8\n",
       "68             5703819.6\n",
       "64             4839704.0\n",
       "54             4619109.6\n",
       "6              3485508.4\n",
       "21             3451134.0\n",
       "7              3396008.6\n",
       "44             3113907.9\n",
       "60             2987851.1\n",
       "72             2900495.1\n",
       "10             2852233.4\n",
       "38             2759292.2\n",
       "16             2606540.8\n",
       "66             2517631.8\n",
       "52             2489228.8\n",
       "75             2468374.2\n",
       "73             2316588.0\n",
       "67             2292355.0\n",
       "31             2244349.4\n",
       "24             2231644.8\n",
       "12             2226014.8\n",
       "33             2198497.2\n",
       "19             2086124.8\n",
       "69             2038993.3\n",
       "55             1990918.9\n",
       "27             1898954.8\n",
       "40             1868289.8\n",
       "11             1827060.1\n",
       "...                  ...\n",
       "57             1317802.6\n",
       "15             1257716.6\n",
       "49             1219282.6\n",
       "51             1210733.4\n",
       "13             1194654.1\n",
       "53             1153420.4\n",
       "18             1143925.1\n",
       "77             1108952.6\n",
       "5              1065550.1\n",
       "17             1045428.4\n",
       "32             1023813.8\n",
       "58              999713.5\n",
       "37              972494.4\n",
       "29              900429.4\n",
       "8               883903.5\n",
       "36              867618.3\n",
       "22              865339.7\n",
       "34              843390.8\n",
       "30              797559.1\n",
       "4               781867.6\n",
       "65              762568.8\n",
       "14              759964.8\n",
       "2               756659.2\n",
       "9               753131.2\n",
       "39              735535.7\n",
       "76              601873.3\n",
       "56              584069.3\n",
       "25              490349.6\n",
       "26              263405.9\n",
       "42              206611.5\n",
       "\n",
       "[77 rows x 1 columns]"
      ]
     },
     "execution_count": 40,
     "metadata": {},
     "output_type": "execute_result"
    }
   ],
   "source": [
    "dist_sums=cash_txns_93[['acct_dist_id','amount']].groupby('acct_dist_id').aggregate({'amount':np.sum}).sort_values(['amount'],ascending=False)\n",
    "\n",
    "dist_sums"
   ]
  },
  {
   "cell_type": "code",
   "execution_count": 41,
   "metadata": {},
   "outputs": [
    {
     "data": {
      "text/html": [
       "<div>\n",
       "<table border=\"1\" class=\"dataframe\">\n",
       "  <thead>\n",
       "    <tr style=\"text-align: right;\">\n",
       "      <th></th>\n",
       "      <th>trans_id</th>\n",
       "      <th>account_id</th>\n",
       "      <th>date</th>\n",
       "      <th>type</th>\n",
       "      <th>operation</th>\n",
       "      <th>amount</th>\n",
       "      <th>balance</th>\n",
       "      <th>k_symbol</th>\n",
       "      <th>bank</th>\n",
       "      <th>account</th>\n",
       "      <th>acct_dist_id</th>\n",
       "      <th>year</th>\n",
       "    </tr>\n",
       "  </thead>\n",
       "  <tbody>\n",
       "    <tr>\n",
       "      <th>0</th>\n",
       "      <td>695247</td>\n",
       "      <td>2378</td>\n",
       "      <td>1993-01-01</td>\n",
       "      <td>PRIJEM</td>\n",
       "      <td>VKLAD</td>\n",
       "      <td>700</td>\n",
       "      <td>700</td>\n",
       "      <td>NaN</td>\n",
       "      <td>NaN</td>\n",
       "      <td>NaN</td>\n",
       "      <td>16</td>\n",
       "      <td>1993</td>\n",
       "    </tr>\n",
       "    <tr>\n",
       "      <th>1</th>\n",
       "      <td>171812</td>\n",
       "      <td>576</td>\n",
       "      <td>1993-01-01</td>\n",
       "      <td>PRIJEM</td>\n",
       "      <td>VKLAD</td>\n",
       "      <td>900</td>\n",
       "      <td>900</td>\n",
       "      <td>NaN</td>\n",
       "      <td>NaN</td>\n",
       "      <td>NaN</td>\n",
       "      <td>55</td>\n",
       "      <td>1993</td>\n",
       "    </tr>\n",
       "    <tr>\n",
       "      <th>2</th>\n",
       "      <td>207264</td>\n",
       "      <td>704</td>\n",
       "      <td>1993-01-01</td>\n",
       "      <td>PRIJEM</td>\n",
       "      <td>VKLAD</td>\n",
       "      <td>1000</td>\n",
       "      <td>1000</td>\n",
       "      <td>NaN</td>\n",
       "      <td>NaN</td>\n",
       "      <td>NaN</td>\n",
       "      <td>55</td>\n",
       "      <td>1993</td>\n",
       "    </tr>\n",
       "    <tr>\n",
       "      <th>3</th>\n",
       "      <td>1117247</td>\n",
       "      <td>3818</td>\n",
       "      <td>1993-01-01</td>\n",
       "      <td>PRIJEM</td>\n",
       "      <td>VKLAD</td>\n",
       "      <td>600</td>\n",
       "      <td>600</td>\n",
       "      <td>NaN</td>\n",
       "      <td>NaN</td>\n",
       "      <td>NaN</td>\n",
       "      <td>74</td>\n",
       "      <td>1993</td>\n",
       "    </tr>\n",
       "    <tr>\n",
       "      <th>4</th>\n",
       "      <td>579373</td>\n",
       "      <td>1972</td>\n",
       "      <td>1993-01-02</td>\n",
       "      <td>PRIJEM</td>\n",
       "      <td>VKLAD</td>\n",
       "      <td>400</td>\n",
       "      <td>400</td>\n",
       "      <td>NaN</td>\n",
       "      <td>NaN</td>\n",
       "      <td>NaN</td>\n",
       "      <td>77</td>\n",
       "      <td>1993</td>\n",
       "    </tr>\n",
       "  </tbody>\n",
       "</table>\n",
       "</div>"
      ],
      "text/plain": [
       "   trans_id  account_id       date    type operation  amount  balance  \\\n",
       "0    695247        2378 1993-01-01  PRIJEM     VKLAD     700      700   \n",
       "1    171812         576 1993-01-01  PRIJEM     VKLAD     900      900   \n",
       "2    207264         704 1993-01-01  PRIJEM     VKLAD    1000     1000   \n",
       "3   1117247        3818 1993-01-01  PRIJEM     VKLAD     600      600   \n",
       "4    579373        1972 1993-01-02  PRIJEM     VKLAD     400      400   \n",
       "\n",
       "  k_symbol bank account  acct_dist_id  year  \n",
       "0      NaN  NaN     NaN            16  1993  \n",
       "1      NaN  NaN     NaN            55  1993  \n",
       "2      NaN  NaN     NaN            55  1993  \n",
       "3      NaN  NaN     NaN            74  1993  \n",
       "4      NaN  NaN     NaN            77  1993  "
      ]
     },
     "execution_count": 41,
     "metadata": {},
     "output_type": "execute_result"
    }
   ],
   "source": [
    "cash_txns.head()"
   ]
  },
  {
   "cell_type": "code",
   "execution_count": 42,
   "metadata": {},
   "outputs": [
    {
     "data": {
      "text/plain": [
       "591661"
      ]
     },
     "execution_count": 42,
     "metadata": {},
     "output_type": "execute_result"
    }
   ],
   "source": [
    "len(cash_txns)"
   ]
  },
  {
   "cell_type": "code",
   "execution_count": 43,
   "metadata": {},
   "outputs": [],
   "source": [
    "cash_txns_10k=cash_txns[cash_txns['amount']>=10000]"
   ]
  },
  {
   "cell_type": "code",
   "execution_count": 44,
   "metadata": {},
   "outputs": [
    {
     "data": {
      "text/plain": [
       "175662"
      ]
     },
     "execution_count": 44,
     "metadata": {},
     "output_type": "execute_result"
    }
   ],
   "source": [
    "len(cash_txns_10k)"
   ]
  },
  {
   "cell_type": "code",
   "execution_count": 45,
   "metadata": {},
   "outputs": [],
   "source": [
    "cash_txns_25k=cash_txns[cash_txns['amount']>=25000]"
   ]
  },
  {
   "cell_type": "code",
   "execution_count": 46,
   "metadata": {},
   "outputs": [
    {
     "data": {
      "text/plain": [
       "44231"
      ]
     },
     "execution_count": 46,
     "metadata": {},
     "output_type": "execute_result"
    }
   ],
   "source": [
    "len(cash_txns_25k)"
   ]
  },
  {
   "cell_type": "code",
   "execution_count": 47,
   "metadata": {},
   "outputs": [],
   "source": [
    "cash_aggs_25k=cash_txns_25k[['account_id','trans_id','amount','year']].groupby(['year','account_id'],as_index=False).\\\n",
    "aggregate({'amount':[np.sum,np.mean,max],'trans_id':pd.Series.nunique})\n",
    "\n",
    "#.sort_values(by=['year','amount','trans_id'],ascending=[True,False,False])\n",
    "\n",
    "#cash_aggs=cash_aggs.rename(columns={'amo'})"
   ]
  },
  {
   "cell_type": "code",
   "execution_count": 48,
   "metadata": {},
   "outputs": [
    {
     "data": {
      "text/html": [
       "<div>\n",
       "<table border=\"1\" class=\"dataframe\">\n",
       "  <thead>\n",
       "    <tr>\n",
       "      <th></th>\n",
       "      <th>year</th>\n",
       "      <th>account_id</th>\n",
       "      <th>trans_id</th>\n",
       "      <th colspan=\"3\" halign=\"left\">amount</th>\n",
       "    </tr>\n",
       "    <tr>\n",
       "      <th></th>\n",
       "      <th></th>\n",
       "      <th></th>\n",
       "      <th>nunique</th>\n",
       "      <th>sum</th>\n",
       "      <th>mean</th>\n",
       "      <th>max</th>\n",
       "    </tr>\n",
       "  </thead>\n",
       "  <tbody>\n",
       "    <tr>\n",
       "      <th>0</th>\n",
       "      <td>1993</td>\n",
       "      <td>15</td>\n",
       "      <td>1</td>\n",
       "      <td>25598</td>\n",
       "      <td>25598</td>\n",
       "      <td>25598</td>\n",
       "    </tr>\n",
       "    <tr>\n",
       "      <th>1</th>\n",
       "      <td>1993</td>\n",
       "      <td>23</td>\n",
       "      <td>2</td>\n",
       "      <td>66264</td>\n",
       "      <td>33132</td>\n",
       "      <td>33132</td>\n",
       "    </tr>\n",
       "    <tr>\n",
       "      <th>2</th>\n",
       "      <td>1993</td>\n",
       "      <td>33</td>\n",
       "      <td>2</td>\n",
       "      <td>62384</td>\n",
       "      <td>31192</td>\n",
       "      <td>35384</td>\n",
       "    </tr>\n",
       "    <tr>\n",
       "      <th>3</th>\n",
       "      <td>1993</td>\n",
       "      <td>34</td>\n",
       "      <td>1</td>\n",
       "      <td>33000</td>\n",
       "      <td>33000</td>\n",
       "      <td>33000</td>\n",
       "    </tr>\n",
       "    <tr>\n",
       "      <th>4</th>\n",
       "      <td>1993</td>\n",
       "      <td>36</td>\n",
       "      <td>1</td>\n",
       "      <td>29778</td>\n",
       "      <td>29778</td>\n",
       "      <td>29778</td>\n",
       "    </tr>\n",
       "  </tbody>\n",
       "</table>\n",
       "</div>"
      ],
      "text/plain": [
       "   year account_id trans_id amount              \n",
       "                    nunique    sum   mean    max\n",
       "0  1993         15        1  25598  25598  25598\n",
       "1  1993         23        2  66264  33132  33132\n",
       "2  1993         33        2  62384  31192  35384\n",
       "3  1993         34        1  33000  33000  33000\n",
       "4  1993         36        1  29778  29778  29778"
      ]
     },
     "execution_count": 48,
     "metadata": {},
     "output_type": "execute_result"
    }
   ],
   "source": [
    "cash_aggs_25k.head()"
   ]
  },
  {
   "cell_type": "code",
   "execution_count": 49,
   "metadata": {},
   "outputs": [],
   "source": [
    "cash_aggs_25k.columns=cash_aggs_25k.columns.map('_'.join)\n",
    "\n",
    "cash_aggs_25k=cash_aggs_25k.rename(columns={'trans_id_nunique':'n_txns','amount_sum':'total_value','amount_mean':'mean_value','amount_max':'max_value'})"
   ]
  },
  {
   "cell_type": "code",
   "execution_count": 50,
   "metadata": {},
   "outputs": [
    {
     "data": {
      "text/html": [
       "<div>\n",
       "<table border=\"1\" class=\"dataframe\">\n",
       "  <thead>\n",
       "    <tr style=\"text-align: right;\">\n",
       "      <th></th>\n",
       "      <th>year_</th>\n",
       "      <th>account_id_</th>\n",
       "      <th>n_txns</th>\n",
       "      <th>total_value</th>\n",
       "      <th>mean_value</th>\n",
       "      <th>max_value</th>\n",
       "    </tr>\n",
       "  </thead>\n",
       "  <tbody>\n",
       "    <tr>\n",
       "      <th>0</th>\n",
       "      <td>1993</td>\n",
       "      <td>15</td>\n",
       "      <td>1</td>\n",
       "      <td>25598</td>\n",
       "      <td>25598</td>\n",
       "      <td>25598</td>\n",
       "    </tr>\n",
       "    <tr>\n",
       "      <th>1</th>\n",
       "      <td>1993</td>\n",
       "      <td>23</td>\n",
       "      <td>2</td>\n",
       "      <td>66264</td>\n",
       "      <td>33132</td>\n",
       "      <td>33132</td>\n",
       "    </tr>\n",
       "    <tr>\n",
       "      <th>2</th>\n",
       "      <td>1993</td>\n",
       "      <td>33</td>\n",
       "      <td>2</td>\n",
       "      <td>62384</td>\n",
       "      <td>31192</td>\n",
       "      <td>35384</td>\n",
       "    </tr>\n",
       "    <tr>\n",
       "      <th>3</th>\n",
       "      <td>1993</td>\n",
       "      <td>34</td>\n",
       "      <td>1</td>\n",
       "      <td>33000</td>\n",
       "      <td>33000</td>\n",
       "      <td>33000</td>\n",
       "    </tr>\n",
       "    <tr>\n",
       "      <th>4</th>\n",
       "      <td>1993</td>\n",
       "      <td>36</td>\n",
       "      <td>1</td>\n",
       "      <td>29778</td>\n",
       "      <td>29778</td>\n",
       "      <td>29778</td>\n",
       "    </tr>\n",
       "  </tbody>\n",
       "</table>\n",
       "</div>"
      ],
      "text/plain": [
       "   year_  account_id_  n_txns  total_value  mean_value  max_value\n",
       "0   1993           15       1        25598       25598      25598\n",
       "1   1993           23       2        66264       33132      33132\n",
       "2   1993           33       2        62384       31192      35384\n",
       "3   1993           34       1        33000       33000      33000\n",
       "4   1993           36       1        29778       29778      29778"
      ]
     },
     "execution_count": 50,
     "metadata": {},
     "output_type": "execute_result"
    }
   ],
   "source": [
    "cash_aggs_25k.head()"
   ]
  },
  {
   "cell_type": "code",
   "execution_count": 51,
   "metadata": {},
   "outputs": [
    {
     "data": {
      "text/plain": [
       "7455"
      ]
     },
     "execution_count": 51,
     "metadata": {},
     "output_type": "execute_result"
    }
   ],
   "source": [
    "len(cash_aggs_25k)"
   ]
  },
  {
   "cell_type": "code",
   "execution_count": 52,
   "metadata": {},
   "outputs": [],
   "source": [
    "cash_25k_max=cash_aggs_25k.groupby('year_',as_index=False).\\\n",
    "aggregate({'account_id_':pd.Series.nunique,'n_txns':max,'total_value':max,'mean_value':max,'max_value':max}).\\\n",
    "rename(columns={'account_id_':'n_accts_25k','n_txns':'max_n_txns','total_value':'max_total_value','mean_value':'max_mean_value'})"
   ]
  },
  {
   "cell_type": "code",
   "execution_count": 53,
   "metadata": {},
   "outputs": [
    {
     "data": {
      "text/html": [
       "<div>\n",
       "<table border=\"1\" class=\"dataframe\">\n",
       "  <thead>\n",
       "    <tr style=\"text-align: right;\">\n",
       "      <th></th>\n",
       "      <th>year_</th>\n",
       "      <th>max_total_value</th>\n",
       "      <th>max_value</th>\n",
       "      <th>max_n_txns</th>\n",
       "      <th>n_accts_25k</th>\n",
       "      <th>max_mean_value</th>\n",
       "    </tr>\n",
       "  </thead>\n",
       "  <tbody>\n",
       "    <tr>\n",
       "      <th>0</th>\n",
       "      <td>1993</td>\n",
       "      <td>1040081</td>\n",
       "      <td>76500</td>\n",
       "      <td>28</td>\n",
       "      <td>409</td>\n",
       "      <td>56400</td>\n",
       "    </tr>\n",
       "    <tr>\n",
       "      <th>1</th>\n",
       "      <td>1994</td>\n",
       "      <td>1500968</td>\n",
       "      <td>72600</td>\n",
       "      <td>38</td>\n",
       "      <td>639</td>\n",
       "      <td>49556</td>\n",
       "    </tr>\n",
       "    <tr>\n",
       "      <th>2</th>\n",
       "      <td>1995</td>\n",
       "      <td>1323179</td>\n",
       "      <td>80400</td>\n",
       "      <td>33</td>\n",
       "      <td>913</td>\n",
       "      <td>52000</td>\n",
       "    </tr>\n",
       "    <tr>\n",
       "      <th>3</th>\n",
       "      <td>1996</td>\n",
       "      <td>1649693</td>\n",
       "      <td>86400</td>\n",
       "      <td>41</td>\n",
       "      <td>1467</td>\n",
       "      <td>70800</td>\n",
       "    </tr>\n",
       "    <tr>\n",
       "      <th>4</th>\n",
       "      <td>1997</td>\n",
       "      <td>1430541</td>\n",
       "      <td>80700</td>\n",
       "      <td>36</td>\n",
       "      <td>1954</td>\n",
       "      <td>57300</td>\n",
       "    </tr>\n",
       "    <tr>\n",
       "      <th>5</th>\n",
       "      <td>1998</td>\n",
       "      <td>1378855</td>\n",
       "      <td>87400</td>\n",
       "      <td>35</td>\n",
       "      <td>2073</td>\n",
       "      <td>72950</td>\n",
       "    </tr>\n",
       "  </tbody>\n",
       "</table>\n",
       "</div>"
      ],
      "text/plain": [
       "   year_  max_total_value  max_value  max_n_txns  n_accts_25k  max_mean_value\n",
       "0   1993          1040081      76500          28          409           56400\n",
       "1   1994          1500968      72600          38          639           49556\n",
       "2   1995          1323179      80400          33          913           52000\n",
       "3   1996          1649693      86400          41         1467           70800\n",
       "4   1997          1430541      80700          36         1954           57300\n",
       "5   1998          1378855      87400          35         2073           72950"
      ]
     },
     "execution_count": 53,
     "metadata": {},
     "output_type": "execute_result"
    }
   ],
   "source": [
    "cash_25k_max"
   ]
  },
  {
   "cell_type": "code",
   "execution_count": 54,
   "metadata": {},
   "outputs": [
    {
     "data": {
      "text/plain": [
       "4500"
      ]
     },
     "execution_count": 54,
     "metadata": {},
     "output_type": "execute_result"
    }
   ],
   "source": [
    "len(account)"
   ]
  },
  {
   "cell_type": "code",
   "execution_count": 55,
   "metadata": {},
   "outputs": [],
   "source": [
    "cash_txns_50k=cash_txns[cash_txns['amount']>=50000]"
   ]
  },
  {
   "cell_type": "code",
   "execution_count": 56,
   "metadata": {},
   "outputs": [
    {
     "data": {
      "text/plain": [
       "2623"
      ]
     },
     "execution_count": 56,
     "metadata": {},
     "output_type": "execute_result"
    }
   ],
   "source": [
    "len(cash_txns_50k)"
   ]
  },
  {
   "cell_type": "code",
   "execution_count": 57,
   "metadata": {},
   "outputs": [
    {
     "data": {
      "text/plain": [
       "797"
      ]
     },
     "execution_count": 57,
     "metadata": {},
     "output_type": "execute_result"
    }
   ],
   "source": [
    "cash_txns_50k['account_id'].nunique()"
   ]
  },
  {
   "cell_type": "code",
   "execution_count": 58,
   "metadata": {},
   "outputs": [],
   "source": [
    "cash_aggs_50k=cash_txns_50k[['account_id','trans_id','amount','year']].groupby(['year','account_id'],as_index=False).\\\n",
    "aggregate({'amount':[np.sum,np.mean,max],'trans_id':pd.Series.nunique})"
   ]
  },
  {
   "cell_type": "code",
   "execution_count": 59,
   "metadata": {},
   "outputs": [
    {
     "data": {
      "text/html": [
       "<div>\n",
       "<table border=\"1\" class=\"dataframe\">\n",
       "  <thead>\n",
       "    <tr>\n",
       "      <th></th>\n",
       "      <th>year</th>\n",
       "      <th>account_id</th>\n",
       "      <th>trans_id</th>\n",
       "      <th colspan=\"3\" halign=\"left\">amount</th>\n",
       "    </tr>\n",
       "    <tr>\n",
       "      <th></th>\n",
       "      <th></th>\n",
       "      <th></th>\n",
       "      <th>nunique</th>\n",
       "      <th>sum</th>\n",
       "      <th>mean</th>\n",
       "      <th>max</th>\n",
       "    </tr>\n",
       "  </thead>\n",
       "  <tbody>\n",
       "    <tr>\n",
       "      <th>0</th>\n",
       "      <td>1993</td>\n",
       "      <td>47</td>\n",
       "      <td>1</td>\n",
       "      <td>63300</td>\n",
       "      <td>63300</td>\n",
       "      <td>63300</td>\n",
       "    </tr>\n",
       "    <tr>\n",
       "      <th>1</th>\n",
       "      <td>1993</td>\n",
       "      <td>96</td>\n",
       "      <td>1</td>\n",
       "      <td>62900</td>\n",
       "      <td>62900</td>\n",
       "      <td>62900</td>\n",
       "    </tr>\n",
       "    <tr>\n",
       "      <th>2</th>\n",
       "      <td>1993</td>\n",
       "      <td>212</td>\n",
       "      <td>1</td>\n",
       "      <td>58900</td>\n",
       "      <td>58900</td>\n",
       "      <td>58900</td>\n",
       "    </tr>\n",
       "    <tr>\n",
       "      <th>3</th>\n",
       "      <td>1993</td>\n",
       "      <td>239</td>\n",
       "      <td>2</td>\n",
       "      <td>125500</td>\n",
       "      <td>62750</td>\n",
       "      <td>63200</td>\n",
       "    </tr>\n",
       "    <tr>\n",
       "      <th>4</th>\n",
       "      <td>1993</td>\n",
       "      <td>456</td>\n",
       "      <td>3</td>\n",
       "      <td>166200</td>\n",
       "      <td>55400</td>\n",
       "      <td>63900</td>\n",
       "    </tr>\n",
       "  </tbody>\n",
       "</table>\n",
       "</div>"
      ],
      "text/plain": [
       "   year account_id trans_id  amount              \n",
       "                    nunique     sum   mean    max\n",
       "0  1993         47        1   63300  63300  63300\n",
       "1  1993         96        1   62900  62900  62900\n",
       "2  1993        212        1   58900  58900  58900\n",
       "3  1993        239        2  125500  62750  63200\n",
       "4  1993        456        3  166200  55400  63900"
      ]
     },
     "execution_count": 59,
     "metadata": {},
     "output_type": "execute_result"
    }
   ],
   "source": [
    "cash_aggs_50k.head()"
   ]
  },
  {
   "cell_type": "code",
   "execution_count": 60,
   "metadata": {},
   "outputs": [],
   "source": [
    "cash_aggs_50k.columns=cash_aggs_50k.columns.map('_'.join)\n",
    "\n",
    "cash_aggs_50k=cash_aggs_50k.rename(columns={'trans_id_nunique':'n_txns','amount_sum':'total_value','amount_mean':'mean_value','amount_max':'max_value'})"
   ]
  },
  {
   "cell_type": "code",
   "execution_count": 61,
   "metadata": {},
   "outputs": [
    {
     "data": {
      "text/html": [
       "<div>\n",
       "<table border=\"1\" class=\"dataframe\">\n",
       "  <thead>\n",
       "    <tr style=\"text-align: right;\">\n",
       "      <th></th>\n",
       "      <th>year_</th>\n",
       "      <th>account_id_</th>\n",
       "      <th>n_txns</th>\n",
       "      <th>total_value</th>\n",
       "      <th>mean_value</th>\n",
       "      <th>max_value</th>\n",
       "    </tr>\n",
       "  </thead>\n",
       "  <tbody>\n",
       "    <tr>\n",
       "      <th>0</th>\n",
       "      <td>1993</td>\n",
       "      <td>47</td>\n",
       "      <td>1</td>\n",
       "      <td>63300</td>\n",
       "      <td>63300</td>\n",
       "      <td>63300</td>\n",
       "    </tr>\n",
       "    <tr>\n",
       "      <th>1</th>\n",
       "      <td>1993</td>\n",
       "      <td>96</td>\n",
       "      <td>1</td>\n",
       "      <td>62900</td>\n",
       "      <td>62900</td>\n",
       "      <td>62900</td>\n",
       "    </tr>\n",
       "    <tr>\n",
       "      <th>2</th>\n",
       "      <td>1993</td>\n",
       "      <td>212</td>\n",
       "      <td>1</td>\n",
       "      <td>58900</td>\n",
       "      <td>58900</td>\n",
       "      <td>58900</td>\n",
       "    </tr>\n",
       "    <tr>\n",
       "      <th>3</th>\n",
       "      <td>1993</td>\n",
       "      <td>239</td>\n",
       "      <td>2</td>\n",
       "      <td>125500</td>\n",
       "      <td>62750</td>\n",
       "      <td>63200</td>\n",
       "    </tr>\n",
       "    <tr>\n",
       "      <th>4</th>\n",
       "      <td>1993</td>\n",
       "      <td>456</td>\n",
       "      <td>3</td>\n",
       "      <td>166200</td>\n",
       "      <td>55400</td>\n",
       "      <td>63900</td>\n",
       "    </tr>\n",
       "  </tbody>\n",
       "</table>\n",
       "</div>"
      ],
      "text/plain": [
       "   year_  account_id_  n_txns  total_value  mean_value  max_value\n",
       "0   1993           47       1        63300       63300      63300\n",
       "1   1993           96       1        62900       62900      62900\n",
       "2   1993          212       1        58900       58900      58900\n",
       "3   1993          239       2       125500       62750      63200\n",
       "4   1993          456       3       166200       55400      63900"
      ]
     },
     "execution_count": 61,
     "metadata": {},
     "output_type": "execute_result"
    }
   ],
   "source": [
    "cash_aggs_50k.head()"
   ]
  },
  {
   "cell_type": "code",
   "execution_count": 62,
   "metadata": {},
   "outputs": [],
   "source": [
    "cash_50k_max=cash_aggs_50k.groupby('year_',as_index=False).\\\n",
    "aggregate({'account_id_':pd.Series.nunique,'n_txns':max,'total_value':max,'mean_value':max,'max_value':max}).\\\n",
    "rename(columns={'account_id_':'n_accts_50k','n_txns':'max_n_txns','total_value':'max_total_value','mean_value':'max_mean_value'})"
   ]
  },
  {
   "cell_type": "code",
   "execution_count": 63,
   "metadata": {},
   "outputs": [
    {
     "data": {
      "text/html": [
       "<div>\n",
       "<table border=\"1\" class=\"dataframe\">\n",
       "  <thead>\n",
       "    <tr style=\"text-align: right;\">\n",
       "      <th></th>\n",
       "      <th>year_</th>\n",
       "      <th>max_total_value</th>\n",
       "      <th>max_value</th>\n",
       "      <th>max_n_txns</th>\n",
       "      <th>n_accts_50k</th>\n",
       "      <th>max_mean_value</th>\n",
       "    </tr>\n",
       "  </thead>\n",
       "  <tbody>\n",
       "    <tr>\n",
       "      <th>0</th>\n",
       "      <td>1993</td>\n",
       "      <td>281400</td>\n",
       "      <td>76500</td>\n",
       "      <td>5</td>\n",
       "      <td>69</td>\n",
       "      <td>64600</td>\n",
       "    </tr>\n",
       "    <tr>\n",
       "      <th>1</th>\n",
       "      <td>1994</td>\n",
       "      <td>290300</td>\n",
       "      <td>72600</td>\n",
       "      <td>5</td>\n",
       "      <td>109</td>\n",
       "      <td>66300</td>\n",
       "    </tr>\n",
       "    <tr>\n",
       "      <th>2</th>\n",
       "      <td>1995</td>\n",
       "      <td>289400</td>\n",
       "      <td>80400</td>\n",
       "      <td>5</td>\n",
       "      <td>164</td>\n",
       "      <td>78900</td>\n",
       "    </tr>\n",
       "    <tr>\n",
       "      <th>3</th>\n",
       "      <td>1996</td>\n",
       "      <td>359300</td>\n",
       "      <td>86400</td>\n",
       "      <td>6</td>\n",
       "      <td>262</td>\n",
       "      <td>86400</td>\n",
       "    </tr>\n",
       "    <tr>\n",
       "      <th>4</th>\n",
       "      <td>1997</td>\n",
       "      <td>473600</td>\n",
       "      <td>80700</td>\n",
       "      <td>8</td>\n",
       "      <td>416</td>\n",
       "      <td>80700</td>\n",
       "    </tr>\n",
       "    <tr>\n",
       "      <th>5</th>\n",
       "      <td>1998</td>\n",
       "      <td>401100</td>\n",
       "      <td>87400</td>\n",
       "      <td>7</td>\n",
       "      <td>476</td>\n",
       "      <td>85800</td>\n",
       "    </tr>\n",
       "  </tbody>\n",
       "</table>\n",
       "</div>"
      ],
      "text/plain": [
       "   year_  max_total_value  max_value  max_n_txns  n_accts_50k  max_mean_value\n",
       "0   1993           281400      76500           5           69           64600\n",
       "1   1994           290300      72600           5          109           66300\n",
       "2   1995           289400      80400           5          164           78900\n",
       "3   1996           359300      86400           6          262           86400\n",
       "4   1997           473600      80700           8          416           80700\n",
       "5   1998           401100      87400           7          476           85800"
      ]
     },
     "execution_count": 63,
     "metadata": {},
     "output_type": "execute_result"
    }
   ],
   "source": [
    "cash_50k_max"
   ]
  },
  {
   "cell_type": "code",
   "execution_count": 64,
   "metadata": {},
   "outputs": [
    {
     "data": {
      "text/plain": [
       "69"
      ]
     },
     "execution_count": 64,
     "metadata": {},
     "output_type": "execute_result"
    }
   ],
   "source": [
    "cash_txns_50k[cash_txns_50k['year']==1993]['account_id'].nunique()"
   ]
  },
  {
   "cell_type": "code",
   "execution_count": 65,
   "metadata": {},
   "outputs": [
    {
     "data": {
      "text/plain": [
       "797"
      ]
     },
     "execution_count": 65,
     "metadata": {},
     "output_type": "execute_result"
    }
   ],
   "source": [
    "cash_aggs_50k['account_id_'].nunique()"
   ]
  },
  {
   "cell_type": "code",
   "execution_count": 66,
   "metadata": {},
   "outputs": [
    {
     "data": {
      "text/plain": [
       "array(['VKLAD', 'PREVOD Z UCTU', 'VYBER', nan, 'PREVOD NA UCET',\n",
       "       'VYBER KARTOU'], dtype=object)"
      ]
     },
     "execution_count": 66,
     "metadata": {},
     "output_type": "execute_result"
    }
   ],
   "source": [
    "txns_acct_loc['operation'].unique()"
   ]
  },
  {
   "cell_type": "code",
   "execution_count": 67,
   "metadata": {},
   "outputs": [],
   "source": [
    "wire_txns=txns_acct_loc[txns_acct_loc['operation'].isin(['PREVOD Z UCTU','PREVOD NA UCET'])]"
   ]
  },
  {
   "cell_type": "code",
   "execution_count": 68,
   "metadata": {},
   "outputs": [],
   "source": [
    "wire_txns['year']=wire_txns['date'].dt.year"
   ]
  },
  {
   "cell_type": "code",
   "execution_count": 69,
   "metadata": {},
   "outputs": [
    {
     "data": {
      "text/plain": [
       "273509"
      ]
     },
     "execution_count": 69,
     "metadata": {},
     "output_type": "execute_result"
    }
   ],
   "source": [
    "len(wire_txns)"
   ]
  },
  {
   "cell_type": "code",
   "execution_count": 70,
   "metadata": {},
   "outputs": [],
   "source": [
    "wire_txns_50k=wire_txns[wire_txns['amount']>=50000]"
   ]
  },
  {
   "cell_type": "code",
   "execution_count": 71,
   "metadata": {},
   "outputs": [
    {
     "data": {
      "text/plain": [
       "1233"
      ]
     },
     "execution_count": 71,
     "metadata": {},
     "output_type": "execute_result"
    }
   ],
   "source": [
    "len(wire_txns_50k)"
   ]
  },
  {
   "cell_type": "code",
   "execution_count": 72,
   "metadata": {},
   "outputs": [
    {
     "data": {
      "text/plain": [
       "170"
      ]
     },
     "execution_count": 72,
     "metadata": {},
     "output_type": "execute_result"
    }
   ],
   "source": [
    "wire_txns_50k['account_id'].nunique()"
   ]
  },
  {
   "cell_type": "code",
   "execution_count": 73,
   "metadata": {},
   "outputs": [],
   "source": [
    "wire_aggs_50k=wire_txns_50k[['account_id','trans_id','amount','year']].groupby(['year','account_id'],as_index=False).\\\n",
    "aggregate({'amount':[np.sum,np.mean,max],'trans_id':pd.Series.nunique})"
   ]
  },
  {
   "cell_type": "code",
   "execution_count": 74,
   "metadata": {},
   "outputs": [],
   "source": [
    "wire_aggs_50k.columns=wire_aggs_50k.columns.map('_'.join)\n",
    "\n",
    "wire_aggs_50k=wire_aggs_50k.rename(columns={'trans_id_nunique':'n_txns','amount_sum':'total_value','amount_mean':'mean_value','amount_max':'max_value'})"
   ]
  },
  {
   "cell_type": "code",
   "execution_count": 75,
   "metadata": {},
   "outputs": [
    {
     "data": {
      "text/html": [
       "<div>\n",
       "<table border=\"1\" class=\"dataframe\">\n",
       "  <thead>\n",
       "    <tr style=\"text-align: right;\">\n",
       "      <th></th>\n",
       "      <th>year_</th>\n",
       "      <th>account_id_</th>\n",
       "      <th>n_txns</th>\n",
       "      <th>total_value</th>\n",
       "      <th>mean_value</th>\n",
       "      <th>max_value</th>\n",
       "    </tr>\n",
       "  </thead>\n",
       "  <tbody>\n",
       "    <tr>\n",
       "      <th>0</th>\n",
       "      <td>1993</td>\n",
       "      <td>47</td>\n",
       "      <td>1</td>\n",
       "      <td>52886</td>\n",
       "      <td>52886</td>\n",
       "      <td>52886</td>\n",
       "    </tr>\n",
       "    <tr>\n",
       "      <th>1</th>\n",
       "      <td>1993</td>\n",
       "      <td>66</td>\n",
       "      <td>1</td>\n",
       "      <td>67070</td>\n",
       "      <td>67070</td>\n",
       "      <td>67070</td>\n",
       "    </tr>\n",
       "    <tr>\n",
       "      <th>2</th>\n",
       "      <td>1993</td>\n",
       "      <td>96</td>\n",
       "      <td>2</td>\n",
       "      <td>132664</td>\n",
       "      <td>66332</td>\n",
       "      <td>66332</td>\n",
       "    </tr>\n",
       "    <tr>\n",
       "      <th>3</th>\n",
       "      <td>1993</td>\n",
       "      <td>212</td>\n",
       "      <td>2</td>\n",
       "      <td>148770</td>\n",
       "      <td>74385</td>\n",
       "      <td>74385</td>\n",
       "    </tr>\n",
       "    <tr>\n",
       "      <th>4</th>\n",
       "      <td>1993</td>\n",
       "      <td>222</td>\n",
       "      <td>2</td>\n",
       "      <td>103228</td>\n",
       "      <td>51614</td>\n",
       "      <td>51614</td>\n",
       "    </tr>\n",
       "  </tbody>\n",
       "</table>\n",
       "</div>"
      ],
      "text/plain": [
       "   year_  account_id_  n_txns  total_value  mean_value  max_value\n",
       "0   1993           47       1        52886       52886      52886\n",
       "1   1993           66       1        67070       67070      67070\n",
       "2   1993           96       2       132664       66332      66332\n",
       "3   1993          212       2       148770       74385      74385\n",
       "4   1993          222       2       103228       51614      51614"
      ]
     },
     "execution_count": 75,
     "metadata": {},
     "output_type": "execute_result"
    }
   ],
   "source": [
    "wire_aggs_50k.head()"
   ]
  },
  {
   "cell_type": "code",
   "execution_count": 76,
   "metadata": {},
   "outputs": [],
   "source": [
    "wire_50k_max=wire_aggs_50k.groupby('year_',as_index=False).\\\n",
    "aggregate({'account_id_':pd.Series.nunique,'n_txns':max,'total_value':max,'mean_value':max,'max_value':max}).\\\n",
    "rename(columns={'account_id_':'n_accts_50k','n_txns':'max_n_txns','total_value':'max_total_value','mean_value':'max_mean_value'})"
   ]
  },
  {
   "cell_type": "code",
   "execution_count": 77,
   "metadata": {},
   "outputs": [
    {
     "data": {
      "text/html": [
       "<div>\n",
       "<table border=\"1\" class=\"dataframe\">\n",
       "  <thead>\n",
       "    <tr style=\"text-align: right;\">\n",
       "      <th></th>\n",
       "      <th>year_</th>\n",
       "      <th>max_total_value</th>\n",
       "      <th>max_value</th>\n",
       "      <th>max_n_txns</th>\n",
       "      <th>n_accts_50k</th>\n",
       "      <th>max_mean_value</th>\n",
       "    </tr>\n",
       "  </thead>\n",
       "  <tbody>\n",
       "    <tr>\n",
       "      <th>0</th>\n",
       "      <td>1993</td>\n",
       "      <td>149296</td>\n",
       "      <td>74648</td>\n",
       "      <td>2</td>\n",
       "      <td>39</td>\n",
       "      <td>74648</td>\n",
       "    </tr>\n",
       "    <tr>\n",
       "      <th>1</th>\n",
       "      <td>1994</td>\n",
       "      <td>149540</td>\n",
       "      <td>74770</td>\n",
       "      <td>2</td>\n",
       "      <td>60</td>\n",
       "      <td>74770</td>\n",
       "    </tr>\n",
       "    <tr>\n",
       "      <th>2</th>\n",
       "      <td>1995</td>\n",
       "      <td>149540</td>\n",
       "      <td>74770</td>\n",
       "      <td>2</td>\n",
       "      <td>86</td>\n",
       "      <td>74770</td>\n",
       "    </tr>\n",
       "    <tr>\n",
       "      <th>3</th>\n",
       "      <td>1996</td>\n",
       "      <td>149540</td>\n",
       "      <td>74812</td>\n",
       "      <td>2</td>\n",
       "      <td>136</td>\n",
       "      <td>74812</td>\n",
       "    </tr>\n",
       "    <tr>\n",
       "      <th>4</th>\n",
       "      <td>1997</td>\n",
       "      <td>149624</td>\n",
       "      <td>74812</td>\n",
       "      <td>2</td>\n",
       "      <td>169</td>\n",
       "      <td>74812</td>\n",
       "    </tr>\n",
       "    <tr>\n",
       "      <th>5</th>\n",
       "      <td>1998</td>\n",
       "      <td>149624</td>\n",
       "      <td>74812</td>\n",
       "      <td>2</td>\n",
       "      <td>170</td>\n",
       "      <td>74812</td>\n",
       "    </tr>\n",
       "  </tbody>\n",
       "</table>\n",
       "</div>"
      ],
      "text/plain": [
       "   year_  max_total_value  max_value  max_n_txns  n_accts_50k  max_mean_value\n",
       "0   1993           149296      74648           2           39           74648\n",
       "1   1994           149540      74770           2           60           74770\n",
       "2   1995           149540      74770           2           86           74770\n",
       "3   1996           149540      74812           2          136           74812\n",
       "4   1997           149624      74812           2          169           74812\n",
       "5   1998           149624      74812           2          170           74812"
      ]
     },
     "execution_count": 77,
     "metadata": {},
     "output_type": "execute_result"
    }
   ],
   "source": [
    "wire_50k_max"
   ]
  },
  {
   "cell_type": "markdown",
   "metadata": {},
   "source": [
    "### Identifying Good and Bad Clients:"
   ]
  },
  {
   "cell_type": "code",
   "execution_count": 78,
   "metadata": {},
   "outputs": [],
   "source": [
    "acct_cash_50k=list(cash_txns_50k['account_id'].unique())"
   ]
  },
  {
   "cell_type": "code",
   "execution_count": 79,
   "metadata": {},
   "outputs": [],
   "source": [
    "acct_wire_50k=list(wire_txns_50k['account_id'].unique())"
   ]
  },
  {
   "cell_type": "code",
   "execution_count": 80,
   "metadata": {},
   "outputs": [],
   "source": [
    "acct_bad_loans=list(bad_loans['account_id'].unique())"
   ]
  },
  {
   "cell_type": "code",
   "execution_count": 81,
   "metadata": {},
   "outputs": [],
   "source": [
    "bad_accts=list(set(acct_bad_loans+acct_wire_50k+acct_cash_50k))"
   ]
  },
  {
   "cell_type": "code",
   "execution_count": 82,
   "metadata": {},
   "outputs": [
    {
     "data": {
      "text/plain": [
       "872"
      ]
     },
     "execution_count": 82,
     "metadata": {},
     "output_type": "execute_result"
    }
   ],
   "source": [
    "len(bad_accts)"
   ]
  },
  {
   "cell_type": "code",
   "execution_count": 83,
   "metadata": {},
   "outputs": [],
   "source": [
    "client_acct_linked=pd.merge(client[['client_id','district_id']],disp[['disp_id','client_id','account_id']],on=['client_id'],how='left').rename(columns={'district_id':'client_dist_id'})\n",
    "\n",
    "client_acct_linked=pd.merge(client_acct_linked,account[['account_id','district_id']],on=['account_id'],how='left').rename(columns={'district_id':'acct_dist_id'})"
   ]
  },
  {
   "cell_type": "code",
   "execution_count": 84,
   "metadata": {},
   "outputs": [
    {
     "data": {
      "text/html": [
       "<div>\n",
       "<table border=\"1\" class=\"dataframe\">\n",
       "  <thead>\n",
       "    <tr style=\"text-align: right;\">\n",
       "      <th></th>\n",
       "      <th>client_id</th>\n",
       "      <th>client_dist_id</th>\n",
       "      <th>disp_id</th>\n",
       "      <th>account_id</th>\n",
       "      <th>acct_dist_id</th>\n",
       "    </tr>\n",
       "  </thead>\n",
       "  <tbody>\n",
       "    <tr>\n",
       "      <th>0</th>\n",
       "      <td>1</td>\n",
       "      <td>18</td>\n",
       "      <td>1</td>\n",
       "      <td>1</td>\n",
       "      <td>18</td>\n",
       "    </tr>\n",
       "    <tr>\n",
       "      <th>1</th>\n",
       "      <td>2</td>\n",
       "      <td>1</td>\n",
       "      <td>2</td>\n",
       "      <td>2</td>\n",
       "      <td>1</td>\n",
       "    </tr>\n",
       "    <tr>\n",
       "      <th>2</th>\n",
       "      <td>3</td>\n",
       "      <td>1</td>\n",
       "      <td>3</td>\n",
       "      <td>2</td>\n",
       "      <td>1</td>\n",
       "    </tr>\n",
       "    <tr>\n",
       "      <th>3</th>\n",
       "      <td>4</td>\n",
       "      <td>5</td>\n",
       "      <td>4</td>\n",
       "      <td>3</td>\n",
       "      <td>5</td>\n",
       "    </tr>\n",
       "    <tr>\n",
       "      <th>4</th>\n",
       "      <td>5</td>\n",
       "      <td>5</td>\n",
       "      <td>5</td>\n",
       "      <td>3</td>\n",
       "      <td>5</td>\n",
       "    </tr>\n",
       "  </tbody>\n",
       "</table>\n",
       "</div>"
      ],
      "text/plain": [
       "   client_id  client_dist_id  disp_id  account_id  acct_dist_id\n",
       "0          1              18        1           1            18\n",
       "1          2               1        2           2             1\n",
       "2          3               1        3           2             1\n",
       "3          4               5        4           3             5\n",
       "4          5               5        5           3             5"
      ]
     },
     "execution_count": 84,
     "metadata": {},
     "output_type": "execute_result"
    }
   ],
   "source": [
    "client_acct_linked.head()"
   ]
  },
  {
   "cell_type": "code",
   "execution_count": 85,
   "metadata": {},
   "outputs": [],
   "source": [
    "bad_dist_id=list(high_crime_rt_dist['district_id'].unique())"
   ]
  },
  {
   "cell_type": "code",
   "execution_count": 86,
   "metadata": {},
   "outputs": [],
   "source": [
    "client_acct_linked['Good_Bad_Client']=client_acct_linked.apply(lambda x: 'BAD' if x['account_id'] in bad_accts or x['client_dist_id'] in bad_dist_id or x['acct_dist_id'] in bad_dist_id else 'GOOD',axis=1)"
   ]
  },
  {
   "cell_type": "code",
   "execution_count": 87,
   "metadata": {},
   "outputs": [
    {
     "data": {
      "text/html": [
       "<div>\n",
       "<table border=\"1\" class=\"dataframe\">\n",
       "  <thead>\n",
       "    <tr style=\"text-align: right;\">\n",
       "      <th></th>\n",
       "      <th>client_id</th>\n",
       "      <th>client_dist_id</th>\n",
       "      <th>disp_id</th>\n",
       "      <th>account_id</th>\n",
       "      <th>acct_dist_id</th>\n",
       "      <th>Good_Bad_Client</th>\n",
       "    </tr>\n",
       "  </thead>\n",
       "  <tbody>\n",
       "    <tr>\n",
       "      <th>0</th>\n",
       "      <td>1</td>\n",
       "      <td>18</td>\n",
       "      <td>1</td>\n",
       "      <td>1</td>\n",
       "      <td>18</td>\n",
       "      <td>GOOD</td>\n",
       "    </tr>\n",
       "    <tr>\n",
       "      <th>1</th>\n",
       "      <td>2</td>\n",
       "      <td>1</td>\n",
       "      <td>2</td>\n",
       "      <td>2</td>\n",
       "      <td>1</td>\n",
       "      <td>BAD</td>\n",
       "    </tr>\n",
       "    <tr>\n",
       "      <th>2</th>\n",
       "      <td>3</td>\n",
       "      <td>1</td>\n",
       "      <td>3</td>\n",
       "      <td>2</td>\n",
       "      <td>1</td>\n",
       "      <td>BAD</td>\n",
       "    </tr>\n",
       "    <tr>\n",
       "      <th>3</th>\n",
       "      <td>4</td>\n",
       "      <td>5</td>\n",
       "      <td>4</td>\n",
       "      <td>3</td>\n",
       "      <td>5</td>\n",
       "      <td>GOOD</td>\n",
       "    </tr>\n",
       "    <tr>\n",
       "      <th>4</th>\n",
       "      <td>5</td>\n",
       "      <td>5</td>\n",
       "      <td>5</td>\n",
       "      <td>3</td>\n",
       "      <td>5</td>\n",
       "      <td>GOOD</td>\n",
       "    </tr>\n",
       "  </tbody>\n",
       "</table>\n",
       "</div>"
      ],
      "text/plain": [
       "   client_id  client_dist_id  disp_id  account_id  acct_dist_id  \\\n",
       "0          1              18        1           1            18   \n",
       "1          2               1        2           2             1   \n",
       "2          3               1        3           2             1   \n",
       "3          4               5        4           3             5   \n",
       "4          5               5        5           3             5   \n",
       "\n",
       "  Good_Bad_Client  \n",
       "0            GOOD  \n",
       "1             BAD  \n",
       "2             BAD  \n",
       "3            GOOD  \n",
       "4            GOOD  "
      ]
     },
     "execution_count": 87,
     "metadata": {},
     "output_type": "execute_result"
    }
   ],
   "source": [
    "client_acct_linked.head()"
   ]
  },
  {
   "cell_type": "code",
   "execution_count": 88,
   "metadata": {},
   "outputs": [
    {
     "data": {
      "text/plain": [
       "5369"
      ]
     },
     "execution_count": 88,
     "metadata": {},
     "output_type": "execute_result"
    }
   ],
   "source": [
    "len(client_acct_linked)"
   ]
  },
  {
   "cell_type": "code",
   "execution_count": 89,
   "metadata": {},
   "outputs": [
    {
     "data": {
      "text/plain": [
       "GOOD    3133\n",
       "BAD     2236\n",
       "Name: Good_Bad_Client, dtype: int64"
      ]
     },
     "execution_count": 89,
     "metadata": {},
     "output_type": "execute_result"
    }
   ],
   "source": [
    "client_acct_linked['Good_Bad_Client'].value_counts()"
   ]
  },
  {
   "cell_type": "markdown",
   "metadata": {},
   "source": [
    "### Predictive Modelling:"
   ]
  },
  {
   "cell_type": "markdown",
   "metadata": {},
   "source": [
    "#### Data Preparation:"
   ]
  },
  {
   "cell_type": "code",
   "execution_count": 90,
   "metadata": {},
   "outputs": [],
   "source": [
    "client_acct_features=pd.merge(client_acct_linked,loan[['account_id','status','status_desc']],on='account_id',how='left')"
   ]
  },
  {
   "cell_type": "code",
   "execution_count": 91,
   "metadata": {},
   "outputs": [],
   "source": [
    "cash_ft_aggs_year=cash_txns[['account_id','trans_id','amount','year']].groupby(['year','account_id']).\\\n",
    "aggregate({'amount':[np.sum,np.mean,max],'trans_id':pd.Series.nunique})"
   ]
  },
  {
   "cell_type": "code",
   "execution_count": 92,
   "metadata": {},
   "outputs": [
    {
     "data": {
      "text/html": [
       "<div>\n",
       "<table border=\"1\" class=\"dataframe\">\n",
       "  <thead>\n",
       "    <tr>\n",
       "      <th></th>\n",
       "      <th></th>\n",
       "      <th>trans_id</th>\n",
       "      <th colspan=\"3\" halign=\"left\">amount</th>\n",
       "    </tr>\n",
       "    <tr>\n",
       "      <th></th>\n",
       "      <th></th>\n",
       "      <th>nunique</th>\n",
       "      <th>sum</th>\n",
       "      <th>mean</th>\n",
       "      <th>max</th>\n",
       "    </tr>\n",
       "    <tr>\n",
       "      <th>year</th>\n",
       "      <th>account_id</th>\n",
       "      <th></th>\n",
       "      <th></th>\n",
       "      <th></th>\n",
       "      <th></th>\n",
       "    </tr>\n",
       "  </thead>\n",
       "  <tbody>\n",
       "    <tr>\n",
       "      <th rowspan=\"5\" valign=\"top\">1993</th>\n",
       "      <th>2</th>\n",
       "      <td>29</td>\n",
       "      <td>169314.6</td>\n",
       "      <td>5838.434483</td>\n",
       "      <td>22400</td>\n",
       "    </tr>\n",
       "    <tr>\n",
       "      <th>9</th>\n",
       "      <td>37</td>\n",
       "      <td>81511.8</td>\n",
       "      <td>2203.021622</td>\n",
       "      <td>14245</td>\n",
       "    </tr>\n",
       "    <tr>\n",
       "      <th>15</th>\n",
       "      <td>7</td>\n",
       "      <td>88228.0</td>\n",
       "      <td>12604.000000</td>\n",
       "      <td>25598</td>\n",
       "    </tr>\n",
       "    <tr>\n",
       "      <th>18</th>\n",
       "      <td>7</td>\n",
       "      <td>25300.0</td>\n",
       "      <td>3614.285714</td>\n",
       "      <td>13500</td>\n",
       "    </tr>\n",
       "    <tr>\n",
       "      <th>23</th>\n",
       "      <td>20</td>\n",
       "      <td>298627.8</td>\n",
       "      <td>14931.390000</td>\n",
       "      <td>33132</td>\n",
       "    </tr>\n",
       "  </tbody>\n",
       "</table>\n",
       "</div>"
      ],
      "text/plain": [
       "                trans_id    amount                     \n",
       "                 nunique       sum          mean    max\n",
       "year account_id                                        \n",
       "1993 2                29  169314.6   5838.434483  22400\n",
       "     9                37   81511.8   2203.021622  14245\n",
       "     15                7   88228.0  12604.000000  25598\n",
       "     18                7   25300.0   3614.285714  13500\n",
       "     23               20  298627.8  14931.390000  33132"
      ]
     },
     "execution_count": 92,
     "metadata": {},
     "output_type": "execute_result"
    }
   ],
   "source": [
    "cash_ft_aggs_year.head()"
   ]
  },
  {
   "cell_type": "code",
   "execution_count": 93,
   "metadata": {},
   "outputs": [
    {
     "data": {
      "text/html": [
       "<div>\n",
       "<table border=\"1\" class=\"dataframe\">\n",
       "  <thead>\n",
       "    <tr>\n",
       "      <th></th>\n",
       "      <th colspan=\"6\" halign=\"left\">trans_id</th>\n",
       "      <th colspan=\"15\" halign=\"left\">amount</th>\n",
       "    </tr>\n",
       "    <tr>\n",
       "      <th></th>\n",
       "      <th colspan=\"6\" halign=\"left\">nunique</th>\n",
       "      <th colspan=\"4\" halign=\"left\">sum</th>\n",
       "      <th>...</th>\n",
       "      <th colspan=\"4\" halign=\"left\">mean</th>\n",
       "      <th colspan=\"6\" halign=\"left\">max</th>\n",
       "    </tr>\n",
       "    <tr>\n",
       "      <th>year</th>\n",
       "      <th>1993</th>\n",
       "      <th>1994</th>\n",
       "      <th>1995</th>\n",
       "      <th>1996</th>\n",
       "      <th>1997</th>\n",
       "      <th>1998</th>\n",
       "      <th>1993</th>\n",
       "      <th>1994</th>\n",
       "      <th>1995</th>\n",
       "      <th>1996</th>\n",
       "      <th>...</th>\n",
       "      <th>1995</th>\n",
       "      <th>1996</th>\n",
       "      <th>1997</th>\n",
       "      <th>1998</th>\n",
       "      <th>1993</th>\n",
       "      <th>1994</th>\n",
       "      <th>1995</th>\n",
       "      <th>1996</th>\n",
       "      <th>1997</th>\n",
       "      <th>1998</th>\n",
       "    </tr>\n",
       "    <tr>\n",
       "      <th>account_id</th>\n",
       "      <th></th>\n",
       "      <th></th>\n",
       "      <th></th>\n",
       "      <th></th>\n",
       "      <th></th>\n",
       "      <th></th>\n",
       "      <th></th>\n",
       "      <th></th>\n",
       "      <th></th>\n",
       "      <th></th>\n",
       "      <th></th>\n",
       "      <th></th>\n",
       "      <th></th>\n",
       "      <th></th>\n",
       "      <th></th>\n",
       "      <th></th>\n",
       "      <th></th>\n",
       "      <th></th>\n",
       "      <th></th>\n",
       "      <th></th>\n",
       "      <th></th>\n",
       "    </tr>\n",
       "  </thead>\n",
       "  <tbody>\n",
       "    <tr>\n",
       "      <th>1</th>\n",
       "      <td>NaN</td>\n",
       "      <td>NaN</td>\n",
       "      <td>17</td>\n",
       "      <td>38</td>\n",
       "      <td>28</td>\n",
       "      <td>26</td>\n",
       "      <td>NaN</td>\n",
       "      <td>NaN</td>\n",
       "      <td>37283.0</td>\n",
       "      <td>31255.2</td>\n",
       "      <td>...</td>\n",
       "      <td>2193.117647</td>\n",
       "      <td>822.505263</td>\n",
       "      <td>789.828571</td>\n",
       "      <td>685.407692</td>\n",
       "      <td>NaN</td>\n",
       "      <td>NaN</td>\n",
       "      <td>12600</td>\n",
       "      <td>3700</td>\n",
       "      <td>4700</td>\n",
       "      <td>6500</td>\n",
       "    </tr>\n",
       "    <tr>\n",
       "      <th>2</th>\n",
       "      <td>29</td>\n",
       "      <td>37</td>\n",
       "      <td>37</td>\n",
       "      <td>49</td>\n",
       "      <td>48</td>\n",
       "      <td>49</td>\n",
       "      <td>169314.6</td>\n",
       "      <td>131916.2</td>\n",
       "      <td>131889.2</td>\n",
       "      <td>210882.2</td>\n",
       "      <td>...</td>\n",
       "      <td>3564.572973</td>\n",
       "      <td>4303.718367</td>\n",
       "      <td>4379.191667</td>\n",
       "      <td>3987.502041</td>\n",
       "      <td>22400</td>\n",
       "      <td>12041</td>\n",
       "      <td>19480</td>\n",
       "      <td>22745</td>\n",
       "      <td>42000</td>\n",
       "      <td>18119</td>\n",
       "    </tr>\n",
       "    <tr>\n",
       "      <th>3</th>\n",
       "      <td>NaN</td>\n",
       "      <td>NaN</td>\n",
       "      <td>NaN</td>\n",
       "      <td>NaN</td>\n",
       "      <td>16</td>\n",
       "      <td>44</td>\n",
       "      <td>NaN</td>\n",
       "      <td>NaN</td>\n",
       "      <td>NaN</td>\n",
       "      <td>NaN</td>\n",
       "      <td>...</td>\n",
       "      <td>NaN</td>\n",
       "      <td>NaN</td>\n",
       "      <td>5247.012500</td>\n",
       "      <td>3272.422727</td>\n",
       "      <td>NaN</td>\n",
       "      <td>NaN</td>\n",
       "      <td>NaN</td>\n",
       "      <td>NaN</td>\n",
       "      <td>11253</td>\n",
       "      <td>11253</td>\n",
       "    </tr>\n",
       "    <tr>\n",
       "      <th>4</th>\n",
       "      <td>NaN</td>\n",
       "      <td>NaN</td>\n",
       "      <td>NaN</td>\n",
       "      <td>12</td>\n",
       "      <td>30</td>\n",
       "      <td>21</td>\n",
       "      <td>NaN</td>\n",
       "      <td>NaN</td>\n",
       "      <td>NaN</td>\n",
       "      <td>14677.6</td>\n",
       "      <td>...</td>\n",
       "      <td>NaN</td>\n",
       "      <td>1223.133333</td>\n",
       "      <td>1078.506667</td>\n",
       "      <td>646.695238</td>\n",
       "      <td>NaN</td>\n",
       "      <td>NaN</td>\n",
       "      <td>NaN</td>\n",
       "      <td>4100</td>\n",
       "      <td>5250</td>\n",
       "      <td>2320</td>\n",
       "    </tr>\n",
       "    <tr>\n",
       "      <th>5</th>\n",
       "      <td>NaN</td>\n",
       "      <td>NaN</td>\n",
       "      <td>NaN</td>\n",
       "      <td>NaN</td>\n",
       "      <td>6</td>\n",
       "      <td>30</td>\n",
       "      <td>NaN</td>\n",
       "      <td>NaN</td>\n",
       "      <td>NaN</td>\n",
       "      <td>NaN</td>\n",
       "      <td>...</td>\n",
       "      <td>NaN</td>\n",
       "      <td>NaN</td>\n",
       "      <td>608.966667</td>\n",
       "      <td>966.353333</td>\n",
       "      <td>NaN</td>\n",
       "      <td>NaN</td>\n",
       "      <td>NaN</td>\n",
       "      <td>NaN</td>\n",
       "      <td>1760</td>\n",
       "      <td>5100</td>\n",
       "    </tr>\n",
       "    <tr>\n",
       "      <th>6</th>\n",
       "      <td>NaN</td>\n",
       "      <td>1</td>\n",
       "      <td>23</td>\n",
       "      <td>27</td>\n",
       "      <td>25</td>\n",
       "      <td>25</td>\n",
       "      <td>NaN</td>\n",
       "      <td>900.0</td>\n",
       "      <td>24980.6</td>\n",
       "      <td>34355.2</td>\n",
       "      <td>...</td>\n",
       "      <td>1086.113043</td>\n",
       "      <td>1272.414815</td>\n",
       "      <td>873.408000</td>\n",
       "      <td>1317.624000</td>\n",
       "      <td>NaN</td>\n",
       "      <td>900</td>\n",
       "      <td>4100</td>\n",
       "      <td>11600</td>\n",
       "      <td>4250</td>\n",
       "      <td>7600</td>\n",
       "    </tr>\n",
       "    <tr>\n",
       "      <th>7</th>\n",
       "      <td>NaN</td>\n",
       "      <td>NaN</td>\n",
       "      <td>NaN</td>\n",
       "      <td>3</td>\n",
       "      <td>36</td>\n",
       "      <td>45</td>\n",
       "      <td>NaN</td>\n",
       "      <td>NaN</td>\n",
       "      <td>NaN</td>\n",
       "      <td>41475.0</td>\n",
       "      <td>...</td>\n",
       "      <td>NaN</td>\n",
       "      <td>13825.000000</td>\n",
       "      <td>14431.705556</td>\n",
       "      <td>11578.457778</td>\n",
       "      <td>NaN</td>\n",
       "      <td>NaN</td>\n",
       "      <td>NaN</td>\n",
       "      <td>33975</td>\n",
       "      <td>33975</td>\n",
       "      <td>33975</td>\n",
       "    </tr>\n",
       "    <tr>\n",
       "      <th>8</th>\n",
       "      <td>NaN</td>\n",
       "      <td>NaN</td>\n",
       "      <td>7</td>\n",
       "      <td>42</td>\n",
       "      <td>48</td>\n",
       "      <td>49</td>\n",
       "      <td>NaN</td>\n",
       "      <td>NaN</td>\n",
       "      <td>105162.0</td>\n",
       "      <td>444754.6</td>\n",
       "      <td>...</td>\n",
       "      <td>15023.142857</td>\n",
       "      <td>10589.395238</td>\n",
       "      <td>8661.441667</td>\n",
       "      <td>8570.093878</td>\n",
       "      <td>NaN</td>\n",
       "      <td>NaN</td>\n",
       "      <td>30712</td>\n",
       "      <td>30712</td>\n",
       "      <td>30712</td>\n",
       "      <td>40800</td>\n",
       "    </tr>\n",
       "    <tr>\n",
       "      <th>9</th>\n",
       "      <td>37</td>\n",
       "      <td>53</td>\n",
       "      <td>54</td>\n",
       "      <td>54</td>\n",
       "      <td>48</td>\n",
       "      <td>44</td>\n",
       "      <td>81511.8</td>\n",
       "      <td>99274.2</td>\n",
       "      <td>128164.2</td>\n",
       "      <td>101809.2</td>\n",
       "      <td>...</td>\n",
       "      <td>2373.411111</td>\n",
       "      <td>1885.355556</td>\n",
       "      <td>3381.545833</td>\n",
       "      <td>2630.945455</td>\n",
       "      <td>14245</td>\n",
       "      <td>20300</td>\n",
       "      <td>45691</td>\n",
       "      <td>23500</td>\n",
       "      <td>38100</td>\n",
       "      <td>26526</td>\n",
       "    </tr>\n",
       "    <tr>\n",
       "      <th>10</th>\n",
       "      <td>NaN</td>\n",
       "      <td>NaN</td>\n",
       "      <td>NaN</td>\n",
       "      <td>9</td>\n",
       "      <td>47</td>\n",
       "      <td>49</td>\n",
       "      <td>NaN</td>\n",
       "      <td>NaN</td>\n",
       "      <td>NaN</td>\n",
       "      <td>120187.0</td>\n",
       "      <td>...</td>\n",
       "      <td>NaN</td>\n",
       "      <td>13354.111111</td>\n",
       "      <td>8227.514894</td>\n",
       "      <td>7478.338776</td>\n",
       "      <td>NaN</td>\n",
       "      <td>NaN</td>\n",
       "      <td>NaN</td>\n",
       "      <td>26529</td>\n",
       "      <td>26529</td>\n",
       "      <td>26529</td>\n",
       "    </tr>\n",
       "    <tr>\n",
       "      <th>11</th>\n",
       "      <td>NaN</td>\n",
       "      <td>NaN</td>\n",
       "      <td>1</td>\n",
       "      <td>14</td>\n",
       "      <td>27</td>\n",
       "      <td>31</td>\n",
       "      <td>NaN</td>\n",
       "      <td>NaN</td>\n",
       "      <td>300.0</td>\n",
       "      <td>1420.6</td>\n",
       "      <td>...</td>\n",
       "      <td>300.000000</td>\n",
       "      <td>101.471429</td>\n",
       "      <td>332.414815</td>\n",
       "      <td>1046.470968</td>\n",
       "      <td>NaN</td>\n",
       "      <td>NaN</td>\n",
       "      <td>300</td>\n",
       "      <td>600</td>\n",
       "      <td>1300</td>\n",
       "      <td>6700</td>\n",
       "    </tr>\n",
       "    <tr>\n",
       "      <th>12</th>\n",
       "      <td>NaN</td>\n",
       "      <td>NaN</td>\n",
       "      <td>NaN</td>\n",
       "      <td>NaN</td>\n",
       "      <td>14</td>\n",
       "      <td>24</td>\n",
       "      <td>NaN</td>\n",
       "      <td>NaN</td>\n",
       "      <td>NaN</td>\n",
       "      <td>NaN</td>\n",
       "      <td>...</td>\n",
       "      <td>NaN</td>\n",
       "      <td>NaN</td>\n",
       "      <td>984.171429</td>\n",
       "      <td>1198.358333</td>\n",
       "      <td>NaN</td>\n",
       "      <td>NaN</td>\n",
       "      <td>NaN</td>\n",
       "      <td>NaN</td>\n",
       "      <td>3200</td>\n",
       "      <td>11000</td>\n",
       "    </tr>\n",
       "    <tr>\n",
       "      <th>13</th>\n",
       "      <td>NaN</td>\n",
       "      <td>NaN</td>\n",
       "      <td>NaN</td>\n",
       "      <td>NaN</td>\n",
       "      <td>3</td>\n",
       "      <td>31</td>\n",
       "      <td>NaN</td>\n",
       "      <td>NaN</td>\n",
       "      <td>NaN</td>\n",
       "      <td>NaN</td>\n",
       "      <td>...</td>\n",
       "      <td>NaN</td>\n",
       "      <td>NaN</td>\n",
       "      <td>2133.333333</td>\n",
       "      <td>2103.567742</td>\n",
       "      <td>NaN</td>\n",
       "      <td>NaN</td>\n",
       "      <td>NaN</td>\n",
       "      <td>NaN</td>\n",
       "      <td>4300</td>\n",
       "      <td>7500</td>\n",
       "    </tr>\n",
       "    <tr>\n",
       "      <th>14</th>\n",
       "      <td>NaN</td>\n",
       "      <td>NaN</td>\n",
       "      <td>NaN</td>\n",
       "      <td>3</td>\n",
       "      <td>34</td>\n",
       "      <td>36</td>\n",
       "      <td>NaN</td>\n",
       "      <td>NaN</td>\n",
       "      <td>NaN</td>\n",
       "      <td>24737.0</td>\n",
       "      <td>...</td>\n",
       "      <td>NaN</td>\n",
       "      <td>8245.666667</td>\n",
       "      <td>10052.511765</td>\n",
       "      <td>9155.961111</td>\n",
       "      <td>NaN</td>\n",
       "      <td>NaN</td>\n",
       "      <td>NaN</td>\n",
       "      <td>22137</td>\n",
       "      <td>22137</td>\n",
       "      <td>22137</td>\n",
       "    </tr>\n",
       "    <tr>\n",
       "      <th>15</th>\n",
       "      <td>7</td>\n",
       "      <td>41</td>\n",
       "      <td>49</td>\n",
       "      <td>50</td>\n",
       "      <td>50</td>\n",
       "      <td>46</td>\n",
       "      <td>88228.0</td>\n",
       "      <td>421106.6</td>\n",
       "      <td>407661.2</td>\n",
       "      <td>418361.2</td>\n",
       "      <td>...</td>\n",
       "      <td>8319.616327</td>\n",
       "      <td>8367.224000</td>\n",
       "      <td>8103.224000</td>\n",
       "      <td>8647.100000</td>\n",
       "      <td>25598</td>\n",
       "      <td>46720</td>\n",
       "      <td>25598</td>\n",
       "      <td>25598</td>\n",
       "      <td>25598</td>\n",
       "      <td>26720</td>\n",
       "    </tr>\n",
       "    <tr>\n",
       "      <th>16</th>\n",
       "      <td>NaN</td>\n",
       "      <td>NaN</td>\n",
       "      <td>NaN</td>\n",
       "      <td>NaN</td>\n",
       "      <td>7</td>\n",
       "      <td>38</td>\n",
       "      <td>NaN</td>\n",
       "      <td>NaN</td>\n",
       "      <td>NaN</td>\n",
       "      <td>NaN</td>\n",
       "      <td>...</td>\n",
       "      <td>NaN</td>\n",
       "      <td>NaN</td>\n",
       "      <td>15963.428571</td>\n",
       "      <td>14424.210526</td>\n",
       "      <td>NaN</td>\n",
       "      <td>NaN</td>\n",
       "      <td>NaN</td>\n",
       "      <td>NaN</td>\n",
       "      <td>31262</td>\n",
       "      <td>31262</td>\n",
       "    </tr>\n",
       "    <tr>\n",
       "      <th>17</th>\n",
       "      <td>NaN</td>\n",
       "      <td>NaN</td>\n",
       "      <td>NaN</td>\n",
       "      <td>NaN</td>\n",
       "      <td>14</td>\n",
       "      <td>21</td>\n",
       "      <td>NaN</td>\n",
       "      <td>NaN</td>\n",
       "      <td>NaN</td>\n",
       "      <td>NaN</td>\n",
       "      <td>...</td>\n",
       "      <td>NaN</td>\n",
       "      <td>NaN</td>\n",
       "      <td>12689.714286</td>\n",
       "      <td>10624.266667</td>\n",
       "      <td>NaN</td>\n",
       "      <td>NaN</td>\n",
       "      <td>NaN</td>\n",
       "      <td>NaN</td>\n",
       "      <td>44068</td>\n",
       "      <td>49483</td>\n",
       "    </tr>\n",
       "    <tr>\n",
       "      <th>18</th>\n",
       "      <td>7</td>\n",
       "      <td>60</td>\n",
       "      <td>33</td>\n",
       "      <td>51</td>\n",
       "      <td>71</td>\n",
       "      <td>46</td>\n",
       "      <td>25300.0</td>\n",
       "      <td>1210035.0</td>\n",
       "      <td>189370.0</td>\n",
       "      <td>483260.0</td>\n",
       "      <td>...</td>\n",
       "      <td>5738.484848</td>\n",
       "      <td>9475.686275</td>\n",
       "      <td>17318.450704</td>\n",
       "      <td>12589.630435</td>\n",
       "      <td>13500</td>\n",
       "      <td>70200</td>\n",
       "      <td>33600</td>\n",
       "      <td>46500</td>\n",
       "      <td>59800</td>\n",
       "      <td>62400</td>\n",
       "    </tr>\n",
       "    <tr>\n",
       "      <th>19</th>\n",
       "      <td>NaN</td>\n",
       "      <td>NaN</td>\n",
       "      <td>27</td>\n",
       "      <td>49</td>\n",
       "      <td>39</td>\n",
       "      <td>45</td>\n",
       "      <td>NaN</td>\n",
       "      <td>NaN</td>\n",
       "      <td>166281.0</td>\n",
       "      <td>236863.1</td>\n",
       "      <td>...</td>\n",
       "      <td>6158.555556</td>\n",
       "      <td>4833.940816</td>\n",
       "      <td>5304.492308</td>\n",
       "      <td>4398.142222</td>\n",
       "      <td>NaN</td>\n",
       "      <td>NaN</td>\n",
       "      <td>16800</td>\n",
       "      <td>18200</td>\n",
       "      <td>18500</td>\n",
       "      <td>18100</td>\n",
       "    </tr>\n",
       "    <tr>\n",
       "      <th>20</th>\n",
       "      <td>NaN</td>\n",
       "      <td>NaN</td>\n",
       "      <td>NaN</td>\n",
       "      <td>1</td>\n",
       "      <td>19</td>\n",
       "      <td>20</td>\n",
       "      <td>NaN</td>\n",
       "      <td>NaN</td>\n",
       "      <td>NaN</td>\n",
       "      <td>500.0</td>\n",
       "      <td>...</td>\n",
       "      <td>NaN</td>\n",
       "      <td>500.000000</td>\n",
       "      <td>373.431579</td>\n",
       "      <td>668.030000</td>\n",
       "      <td>NaN</td>\n",
       "      <td>NaN</td>\n",
       "      <td>NaN</td>\n",
       "      <td>500</td>\n",
       "      <td>1900</td>\n",
       "      <td>4950</td>\n",
       "    </tr>\n",
       "  </tbody>\n",
       "</table>\n",
       "<p>20 rows × 24 columns</p>\n",
       "</div>"
      ],
      "text/plain": [
       "           trans_id                             amount                       \\\n",
       "            nunique                                sum                        \n",
       "year           1993 1994 1995 1996 1997 1998      1993       1994      1995   \n",
       "account_id                                                                    \n",
       "1               NaN  NaN   17   38   28   26       NaN        NaN   37283.0   \n",
       "2                29   37   37   49   48   49  169314.6   131916.2  131889.2   \n",
       "3               NaN  NaN  NaN  NaN   16   44       NaN        NaN       NaN   \n",
       "4               NaN  NaN  NaN   12   30   21       NaN        NaN       NaN   \n",
       "5               NaN  NaN  NaN  NaN    6   30       NaN        NaN       NaN   \n",
       "6               NaN    1   23   27   25   25       NaN      900.0   24980.6   \n",
       "7               NaN  NaN  NaN    3   36   45       NaN        NaN       NaN   \n",
       "8               NaN  NaN    7   42   48   49       NaN        NaN  105162.0   \n",
       "9                37   53   54   54   48   44   81511.8    99274.2  128164.2   \n",
       "10              NaN  NaN  NaN    9   47   49       NaN        NaN       NaN   \n",
       "11              NaN  NaN    1   14   27   31       NaN        NaN     300.0   \n",
       "12              NaN  NaN  NaN  NaN   14   24       NaN        NaN       NaN   \n",
       "13              NaN  NaN  NaN  NaN    3   31       NaN        NaN       NaN   \n",
       "14              NaN  NaN  NaN    3   34   36       NaN        NaN       NaN   \n",
       "15                7   41   49   50   50   46   88228.0   421106.6  407661.2   \n",
       "16              NaN  NaN  NaN  NaN    7   38       NaN        NaN       NaN   \n",
       "17              NaN  NaN  NaN  NaN   14   21       NaN        NaN       NaN   \n",
       "18                7   60   33   51   71   46   25300.0  1210035.0  189370.0   \n",
       "19              NaN  NaN   27   49   39   45       NaN        NaN  166281.0   \n",
       "20              NaN  NaN  NaN    1   19   20       NaN        NaN       NaN   \n",
       "\n",
       "                      ...                                              \\\n",
       "                      ...            mean                               \n",
       "year            1996  ...            1995          1996          1997   \n",
       "account_id            ...                                               \n",
       "1            31255.2  ...     2193.117647    822.505263    789.828571   \n",
       "2           210882.2  ...     3564.572973   4303.718367   4379.191667   \n",
       "3                NaN  ...             NaN           NaN   5247.012500   \n",
       "4            14677.6  ...             NaN   1223.133333   1078.506667   \n",
       "5                NaN  ...             NaN           NaN    608.966667   \n",
       "6            34355.2  ...     1086.113043   1272.414815    873.408000   \n",
       "7            41475.0  ...             NaN  13825.000000  14431.705556   \n",
       "8           444754.6  ...    15023.142857  10589.395238   8661.441667   \n",
       "9           101809.2  ...     2373.411111   1885.355556   3381.545833   \n",
       "10          120187.0  ...             NaN  13354.111111   8227.514894   \n",
       "11            1420.6  ...      300.000000    101.471429    332.414815   \n",
       "12               NaN  ...             NaN           NaN    984.171429   \n",
       "13               NaN  ...             NaN           NaN   2133.333333   \n",
       "14           24737.0  ...             NaN   8245.666667  10052.511765   \n",
       "15          418361.2  ...     8319.616327   8367.224000   8103.224000   \n",
       "16               NaN  ...             NaN           NaN  15963.428571   \n",
       "17               NaN  ...             NaN           NaN  12689.714286   \n",
       "18          483260.0  ...     5738.484848   9475.686275  17318.450704   \n",
       "19          236863.1  ...     6158.555556   4833.940816   5304.492308   \n",
       "20             500.0  ...             NaN    500.000000    373.431579   \n",
       "\n",
       "                                                                    \n",
       "                            max                                     \n",
       "year                1998   1993   1994   1995   1996   1997   1998  \n",
       "account_id                                                          \n",
       "1             685.407692    NaN    NaN  12600   3700   4700   6500  \n",
       "2            3987.502041  22400  12041  19480  22745  42000  18119  \n",
       "3            3272.422727    NaN    NaN    NaN    NaN  11253  11253  \n",
       "4             646.695238    NaN    NaN    NaN   4100   5250   2320  \n",
       "5             966.353333    NaN    NaN    NaN    NaN   1760   5100  \n",
       "6            1317.624000    NaN    900   4100  11600   4250   7600  \n",
       "7           11578.457778    NaN    NaN    NaN  33975  33975  33975  \n",
       "8            8570.093878    NaN    NaN  30712  30712  30712  40800  \n",
       "9            2630.945455  14245  20300  45691  23500  38100  26526  \n",
       "10           7478.338776    NaN    NaN    NaN  26529  26529  26529  \n",
       "11           1046.470968    NaN    NaN    300    600   1300   6700  \n",
       "12           1198.358333    NaN    NaN    NaN    NaN   3200  11000  \n",
       "13           2103.567742    NaN    NaN    NaN    NaN   4300   7500  \n",
       "14           9155.961111    NaN    NaN    NaN  22137  22137  22137  \n",
       "15           8647.100000  25598  46720  25598  25598  25598  26720  \n",
       "16          14424.210526    NaN    NaN    NaN    NaN  31262  31262  \n",
       "17          10624.266667    NaN    NaN    NaN    NaN  44068  49483  \n",
       "18          12589.630435  13500  70200  33600  46500  59800  62400  \n",
       "19           4398.142222    NaN    NaN  16800  18200  18500  18100  \n",
       "20            668.030000    NaN    NaN    NaN    500   1900   4950  \n",
       "\n",
       "[20 rows x 24 columns]"
      ]
     },
     "execution_count": 93,
     "metadata": {},
     "output_type": "execute_result"
    }
   ],
   "source": [
    "cash_ft_aggs_year.unstack(level=0).head(20)"
   ]
  },
  {
   "cell_type": "code",
   "execution_count": 94,
   "metadata": {},
   "outputs": [],
   "source": [
    "cash_ft_aggs=cash_txns[['account_id','trans_id','amount']].groupby(['account_id'],as_index=False).\\\n",
    "aggregate({'amount':[np.sum,np.mean,max],'trans_id':pd.Series.nunique})\n",
    "\n",
    "cash_ft_aggs.columns=cash_ft_aggs.columns.map('_'.join)"
   ]
  },
  {
   "cell_type": "code",
   "execution_count": 95,
   "metadata": {},
   "outputs": [
    {
     "data": {
      "text/html": [
       "<div>\n",
       "<table border=\"1\" class=\"dataframe\">\n",
       "  <thead>\n",
       "    <tr style=\"text-align: right;\">\n",
       "      <th></th>\n",
       "      <th>account_id_</th>\n",
       "      <th>trans_id_nunique</th>\n",
       "      <th>amount_sum</th>\n",
       "      <th>amount_mean</th>\n",
       "      <th>amount_max</th>\n",
       "    </tr>\n",
       "  </thead>\n",
       "  <tbody>\n",
       "    <tr>\n",
       "      <th>0</th>\n",
       "      <td>1</td>\n",
       "      <td>109</td>\n",
       "      <td>108474.0</td>\n",
       "      <td>995.174312</td>\n",
       "      <td>12600</td>\n",
       "    </tr>\n",
       "    <tr>\n",
       "      <th>1</th>\n",
       "      <td>2</td>\n",
       "      <td>249</td>\n",
       "      <td>1049591.0</td>\n",
       "      <td>4215.224900</td>\n",
       "      <td>42000</td>\n",
       "    </tr>\n",
       "    <tr>\n",
       "      <th>2</th>\n",
       "      <td>3</td>\n",
       "      <td>60</td>\n",
       "      <td>227938.8</td>\n",
       "      <td>3798.980000</td>\n",
       "      <td>11253</td>\n",
       "    </tr>\n",
       "    <tr>\n",
       "      <th>3</th>\n",
       "      <td>4</td>\n",
       "      <td>63</td>\n",
       "      <td>60613.4</td>\n",
       "      <td>962.117460</td>\n",
       "      <td>5250</td>\n",
       "    </tr>\n",
       "    <tr>\n",
       "      <th>4</th>\n",
       "      <td>5</td>\n",
       "      <td>36</td>\n",
       "      <td>32644.4</td>\n",
       "      <td>906.788889</td>\n",
       "      <td>5100</td>\n",
       "    </tr>\n",
       "  </tbody>\n",
       "</table>\n",
       "</div>"
      ],
      "text/plain": [
       "   account_id_  trans_id_nunique  amount_sum  amount_mean  amount_max\n",
       "0            1               109    108474.0   995.174312       12600\n",
       "1            2               249   1049591.0  4215.224900       42000\n",
       "2            3                60    227938.8  3798.980000       11253\n",
       "3            4                63     60613.4   962.117460        5250\n",
       "4            5                36     32644.4   906.788889        5100"
      ]
     },
     "execution_count": 95,
     "metadata": {},
     "output_type": "execute_result"
    }
   ],
   "source": [
    "cash_ft_aggs.head()"
   ]
  },
  {
   "cell_type": "code",
   "execution_count": 96,
   "metadata": {},
   "outputs": [],
   "source": [
    "cash_ft_aggs_25k=cash_txns_25k[['account_id','trans_id','amount']].groupby(['account_id'],as_index=False).\\\n",
    "aggregate({'amount':[np.sum,np.mean,max],'trans_id':pd.Series.nunique})\n",
    "cash_ft_aggs=cash_ft_aggs.rename(columns={'account_id_':'account_id'})\n",
    "\n",
    "cash_ft_aggs_25k.columns=cash_ft_aggs_25k.columns.map('_'.join)\n",
    "cash_ft_aggs_25k=cash_ft_aggs_25k.add_suffix('_25k')\n",
    "cash_ft_aggs_25k=cash_ft_aggs_25k.rename(columns={'account_id__25k':'account_id'})\n",
    "\n",
    "cash_ft_aggs_50k=cash_txns_50k[['account_id','trans_id','amount']].groupby(['account_id'],as_index=False).\\\n",
    "aggregate({'amount':[np.sum,np.mean,max],'trans_id':pd.Series.nunique})\n",
    "\n",
    "cash_ft_aggs_50k.columns=cash_ft_aggs_50k.columns.map('_'.join)\n",
    "cash_ft_aggs_50k=cash_ft_aggs_50k.add_suffix('_50k')\n",
    "cash_ft_aggs_50k=cash_ft_aggs_50k.rename(columns={'account_id__50k':'account_id'})"
   ]
  },
  {
   "cell_type": "code",
   "execution_count": 97,
   "metadata": {},
   "outputs": [
    {
     "data": {
      "text/html": [
       "<div>\n",
       "<table border=\"1\" class=\"dataframe\">\n",
       "  <thead>\n",
       "    <tr style=\"text-align: right;\">\n",
       "      <th></th>\n",
       "      <th>account_id</th>\n",
       "      <th>trans_id_nunique_50k</th>\n",
       "      <th>amount_sum_50k</th>\n",
       "      <th>amount_mean_50k</th>\n",
       "      <th>amount_max_50k</th>\n",
       "    </tr>\n",
       "  </thead>\n",
       "  <tbody>\n",
       "    <tr>\n",
       "      <th>0</th>\n",
       "      <td>18</td>\n",
       "      <td>6</td>\n",
       "      <td>347000</td>\n",
       "      <td>57833.333333</td>\n",
       "      <td>70200</td>\n",
       "    </tr>\n",
       "    <tr>\n",
       "      <th>1</th>\n",
       "      <td>25</td>\n",
       "      <td>7</td>\n",
       "      <td>405300</td>\n",
       "      <td>57900.000000</td>\n",
       "      <td>63300</td>\n",
       "    </tr>\n",
       "    <tr>\n",
       "      <th>2</th>\n",
       "      <td>30</td>\n",
       "      <td>7</td>\n",
       "      <td>427200</td>\n",
       "      <td>61028.571429</td>\n",
       "      <td>75600</td>\n",
       "    </tr>\n",
       "    <tr>\n",
       "      <th>3</th>\n",
       "      <td>31</td>\n",
       "      <td>2</td>\n",
       "      <td>115300</td>\n",
       "      <td>57650.000000</td>\n",
       "      <td>61700</td>\n",
       "    </tr>\n",
       "    <tr>\n",
       "      <th>4</th>\n",
       "      <td>33</td>\n",
       "      <td>1</td>\n",
       "      <td>63100</td>\n",
       "      <td>63100.000000</td>\n",
       "      <td>63100</td>\n",
       "    </tr>\n",
       "  </tbody>\n",
       "</table>\n",
       "</div>"
      ],
      "text/plain": [
       "   account_id  trans_id_nunique_50k  amount_sum_50k  amount_mean_50k  \\\n",
       "0          18                     6          347000     57833.333333   \n",
       "1          25                     7          405300     57900.000000   \n",
       "2          30                     7          427200     61028.571429   \n",
       "3          31                     2          115300     57650.000000   \n",
       "4          33                     1           63100     63100.000000   \n",
       "\n",
       "   amount_max_50k  \n",
       "0           70200  \n",
       "1           63300  \n",
       "2           75600  \n",
       "3           61700  \n",
       "4           63100  "
      ]
     },
     "execution_count": 97,
     "metadata": {},
     "output_type": "execute_result"
    }
   ],
   "source": [
    "cash_ft_aggs_50k.head()"
   ]
  },
  {
   "cell_type": "code",
   "execution_count": 98,
   "metadata": {},
   "outputs": [],
   "source": [
    "client_acct_features=pd.merge(client_acct_features,cash_ft_aggs,on=['account_id'],how='left')\n",
    "client_acct_features=pd.merge(client_acct_features,cash_ft_aggs_25k,on=['account_id'],how='left')\n",
    "client_acct_features=pd.merge(client_acct_features,cash_ft_aggs_50k,on=['account_id'],how='left')"
   ]
  },
  {
   "cell_type": "code",
   "execution_count": 99,
   "metadata": {},
   "outputs": [],
   "source": [
    "client_acct_features.loc[:,'amount_sum':]=client_acct_features.loc[:,'amount_sum':].fillna(0)"
   ]
  },
  {
   "cell_type": "code",
   "execution_count": 100,
   "metadata": {
    "scrolled": true
   },
   "outputs": [
    {
     "data": {
      "text/html": [
       "<div>\n",
       "<table border=\"1\" class=\"dataframe\">\n",
       "  <thead>\n",
       "    <tr style=\"text-align: right;\">\n",
       "      <th></th>\n",
       "      <th>client_id</th>\n",
       "      <th>client_dist_id</th>\n",
       "      <th>disp_id</th>\n",
       "      <th>account_id</th>\n",
       "      <th>acct_dist_id</th>\n",
       "      <th>Good_Bad_Client</th>\n",
       "      <th>status</th>\n",
       "      <th>status_desc</th>\n",
       "      <th>trans_id_nunique</th>\n",
       "      <th>amount_sum</th>\n",
       "      <th>amount_mean</th>\n",
       "      <th>amount_max</th>\n",
       "      <th>trans_id_nunique_25k</th>\n",
       "      <th>amount_sum_25k</th>\n",
       "      <th>amount_mean_25k</th>\n",
       "      <th>amount_max_25k</th>\n",
       "      <th>trans_id_nunique_50k</th>\n",
       "      <th>amount_sum_50k</th>\n",
       "      <th>amount_mean_50k</th>\n",
       "      <th>amount_max_50k</th>\n",
       "    </tr>\n",
       "  </thead>\n",
       "  <tbody>\n",
       "    <tr>\n",
       "      <th>0</th>\n",
       "      <td>1</td>\n",
       "      <td>18</td>\n",
       "      <td>1</td>\n",
       "      <td>1</td>\n",
       "      <td>18</td>\n",
       "      <td>GOOD</td>\n",
       "      <td>NaN</td>\n",
       "      <td>NaN</td>\n",
       "      <td>109</td>\n",
       "      <td>108474.0</td>\n",
       "      <td>995.174312</td>\n",
       "      <td>12600</td>\n",
       "      <td>0</td>\n",
       "      <td>0</td>\n",
       "      <td>0</td>\n",
       "      <td>0</td>\n",
       "      <td>0</td>\n",
       "      <td>0</td>\n",
       "      <td>0</td>\n",
       "      <td>0</td>\n",
       "    </tr>\n",
       "    <tr>\n",
       "      <th>1</th>\n",
       "      <td>2</td>\n",
       "      <td>1</td>\n",
       "      <td>2</td>\n",
       "      <td>2</td>\n",
       "      <td>1</td>\n",
       "      <td>BAD</td>\n",
       "      <td>A</td>\n",
       "      <td>Good_Closed</td>\n",
       "      <td>249</td>\n",
       "      <td>1049591.0</td>\n",
       "      <td>4215.224900</td>\n",
       "      <td>42000</td>\n",
       "      <td>1</td>\n",
       "      <td>42000</td>\n",
       "      <td>42000</td>\n",
       "      <td>42000</td>\n",
       "      <td>0</td>\n",
       "      <td>0</td>\n",
       "      <td>0</td>\n",
       "      <td>0</td>\n",
       "    </tr>\n",
       "    <tr>\n",
       "      <th>2</th>\n",
       "      <td>3</td>\n",
       "      <td>1</td>\n",
       "      <td>3</td>\n",
       "      <td>2</td>\n",
       "      <td>1</td>\n",
       "      <td>BAD</td>\n",
       "      <td>A</td>\n",
       "      <td>Good_Closed</td>\n",
       "      <td>249</td>\n",
       "      <td>1049591.0</td>\n",
       "      <td>4215.224900</td>\n",
       "      <td>42000</td>\n",
       "      <td>1</td>\n",
       "      <td>42000</td>\n",
       "      <td>42000</td>\n",
       "      <td>42000</td>\n",
       "      <td>0</td>\n",
       "      <td>0</td>\n",
       "      <td>0</td>\n",
       "      <td>0</td>\n",
       "    </tr>\n",
       "    <tr>\n",
       "      <th>3</th>\n",
       "      <td>4</td>\n",
       "      <td>5</td>\n",
       "      <td>4</td>\n",
       "      <td>3</td>\n",
       "      <td>5</td>\n",
       "      <td>GOOD</td>\n",
       "      <td>NaN</td>\n",
       "      <td>NaN</td>\n",
       "      <td>60</td>\n",
       "      <td>227938.8</td>\n",
       "      <td>3798.980000</td>\n",
       "      <td>11253</td>\n",
       "      <td>0</td>\n",
       "      <td>0</td>\n",
       "      <td>0</td>\n",
       "      <td>0</td>\n",
       "      <td>0</td>\n",
       "      <td>0</td>\n",
       "      <td>0</td>\n",
       "      <td>0</td>\n",
       "    </tr>\n",
       "    <tr>\n",
       "      <th>4</th>\n",
       "      <td>5</td>\n",
       "      <td>5</td>\n",
       "      <td>5</td>\n",
       "      <td>3</td>\n",
       "      <td>5</td>\n",
       "      <td>GOOD</td>\n",
       "      <td>NaN</td>\n",
       "      <td>NaN</td>\n",
       "      <td>60</td>\n",
       "      <td>227938.8</td>\n",
       "      <td>3798.980000</td>\n",
       "      <td>11253</td>\n",
       "      <td>0</td>\n",
       "      <td>0</td>\n",
       "      <td>0</td>\n",
       "      <td>0</td>\n",
       "      <td>0</td>\n",
       "      <td>0</td>\n",
       "      <td>0</td>\n",
       "      <td>0</td>\n",
       "    </tr>\n",
       "  </tbody>\n",
       "</table>\n",
       "</div>"
      ],
      "text/plain": [
       "   client_id  client_dist_id  disp_id  account_id  acct_dist_id  \\\n",
       "0          1              18        1           1            18   \n",
       "1          2               1        2           2             1   \n",
       "2          3               1        3           2             1   \n",
       "3          4               5        4           3             5   \n",
       "4          5               5        5           3             5   \n",
       "\n",
       "  Good_Bad_Client status  status_desc  trans_id_nunique  amount_sum  \\\n",
       "0            GOOD    NaN          NaN               109    108474.0   \n",
       "1             BAD      A  Good_Closed               249   1049591.0   \n",
       "2             BAD      A  Good_Closed               249   1049591.0   \n",
       "3            GOOD    NaN          NaN                60    227938.8   \n",
       "4            GOOD    NaN          NaN                60    227938.8   \n",
       "\n",
       "   amount_mean  amount_max  trans_id_nunique_25k  amount_sum_25k  \\\n",
       "0   995.174312       12600                     0               0   \n",
       "1  4215.224900       42000                     1           42000   \n",
       "2  4215.224900       42000                     1           42000   \n",
       "3  3798.980000       11253                     0               0   \n",
       "4  3798.980000       11253                     0               0   \n",
       "\n",
       "   amount_mean_25k  amount_max_25k  trans_id_nunique_50k  amount_sum_50k  \\\n",
       "0                0               0                     0               0   \n",
       "1            42000           42000                     0               0   \n",
       "2            42000           42000                     0               0   \n",
       "3                0               0                     0               0   \n",
       "4                0               0                     0               0   \n",
       "\n",
       "   amount_mean_50k  amount_max_50k  \n",
       "0                0               0  \n",
       "1                0               0  \n",
       "2                0               0  \n",
       "3                0               0  \n",
       "4                0               0  "
      ]
     },
     "execution_count": 100,
     "metadata": {},
     "output_type": "execute_result"
    }
   ],
   "source": [
    "client_acct_features.head()"
   ]
  },
  {
   "cell_type": "code",
   "execution_count": 101,
   "metadata": {},
   "outputs": [],
   "source": [
    "X=client_acct_features[[x for x in list(client_acct_features.columns) if x not in ['client_id','status_desc','disp_id','account_id','Good_Bad_Client']]]"
   ]
  },
  {
   "cell_type": "code",
   "execution_count": 102,
   "metadata": {},
   "outputs": [],
   "source": [
    "Y=client_acct_features['Good_Bad_Client']"
   ]
  },
  {
   "cell_type": "markdown",
   "metadata": {},
   "source": [
    "#### SVM:"
   ]
  },
  {
   "cell_type": "code",
   "execution_count": 103,
   "metadata": {},
   "outputs": [],
   "source": [
    "svm_x_scaled=X.copy()\n",
    "svm_x_scaled.loc[:,'amount_sum':]=preprocessing.scale(svm_x_scaled.loc[:,'amount_sum':])\n",
    "\n",
    "svm_x_scaled_encoded=pd.get_dummies(svm_x_scaled,columns=['client_dist_id','acct_dist_id','status'])"
   ]
  },
  {
   "cell_type": "code",
   "execution_count": 104,
   "metadata": {
    "scrolled": false
   },
   "outputs": [
    {
     "data": {
      "text/html": [
       "<div>\n",
       "<table border=\"1\" class=\"dataframe\">\n",
       "  <thead>\n",
       "    <tr style=\"text-align: right;\">\n",
       "      <th></th>\n",
       "      <th>trans_id_nunique</th>\n",
       "      <th>amount_sum</th>\n",
       "      <th>amount_mean</th>\n",
       "      <th>amount_max</th>\n",
       "      <th>trans_id_nunique_25k</th>\n",
       "      <th>amount_sum_25k</th>\n",
       "      <th>amount_mean_25k</th>\n",
       "      <th>amount_max_25k</th>\n",
       "      <th>trans_id_nunique_50k</th>\n",
       "      <th>amount_sum_50k</th>\n",
       "      <th>...</th>\n",
       "      <th>acct_dist_id_72</th>\n",
       "      <th>acct_dist_id_73</th>\n",
       "      <th>acct_dist_id_74</th>\n",
       "      <th>acct_dist_id_75</th>\n",
       "      <th>acct_dist_id_76</th>\n",
       "      <th>acct_dist_id_77</th>\n",
       "      <th>status_A</th>\n",
       "      <th>status_B</th>\n",
       "      <th>status_C</th>\n",
       "      <th>status_D</th>\n",
       "    </tr>\n",
       "  </thead>\n",
       "  <tbody>\n",
       "    <tr>\n",
       "      <th>0</th>\n",
       "      <td>109</td>\n",
       "      <td>-0.805123</td>\n",
       "      <td>-1.108146</td>\n",
       "      <td>-0.808782</td>\n",
       "      <td>-0.515353</td>\n",
       "      <td>-0.494840</td>\n",
       "      <td>-0.983188</td>\n",
       "      <td>-0.916830</td>\n",
       "      <td>-0.353431</td>\n",
       "      <td>-0.353485</td>\n",
       "      <td>...</td>\n",
       "      <td>0</td>\n",
       "      <td>0</td>\n",
       "      <td>0</td>\n",
       "      <td>0</td>\n",
       "      <td>0</td>\n",
       "      <td>0</td>\n",
       "      <td>0</td>\n",
       "      <td>0</td>\n",
       "      <td>0</td>\n",
       "      <td>0</td>\n",
       "    </tr>\n",
       "    <tr>\n",
       "      <th>1</th>\n",
       "      <td>249</td>\n",
       "      <td>0.009773</td>\n",
       "      <td>-0.501835</td>\n",
       "      <td>0.693573</td>\n",
       "      <td>-0.461561</td>\n",
       "      <td>-0.435393</td>\n",
       "      <td>1.443406</td>\n",
       "      <td>0.802267</td>\n",
       "      <td>-0.353431</td>\n",
       "      <td>-0.353485</td>\n",
       "      <td>...</td>\n",
       "      <td>0</td>\n",
       "      <td>0</td>\n",
       "      <td>0</td>\n",
       "      <td>0</td>\n",
       "      <td>0</td>\n",
       "      <td>0</td>\n",
       "      <td>1</td>\n",
       "      <td>0</td>\n",
       "      <td>0</td>\n",
       "      <td>0</td>\n",
       "    </tr>\n",
       "    <tr>\n",
       "      <th>2</th>\n",
       "      <td>249</td>\n",
       "      <td>0.009773</td>\n",
       "      <td>-0.501835</td>\n",
       "      <td>0.693573</td>\n",
       "      <td>-0.461561</td>\n",
       "      <td>-0.435393</td>\n",
       "      <td>1.443406</td>\n",
       "      <td>0.802267</td>\n",
       "      <td>-0.353431</td>\n",
       "      <td>-0.353485</td>\n",
       "      <td>...</td>\n",
       "      <td>0</td>\n",
       "      <td>0</td>\n",
       "      <td>0</td>\n",
       "      <td>0</td>\n",
       "      <td>0</td>\n",
       "      <td>0</td>\n",
       "      <td>1</td>\n",
       "      <td>0</td>\n",
       "      <td>0</td>\n",
       "      <td>0</td>\n",
       "    </tr>\n",
       "    <tr>\n",
       "      <th>3</th>\n",
       "      <td>60</td>\n",
       "      <td>-0.701681</td>\n",
       "      <td>-0.580211</td>\n",
       "      <td>-0.877614</td>\n",
       "      <td>-0.515353</td>\n",
       "      <td>-0.494840</td>\n",
       "      <td>-0.983188</td>\n",
       "      <td>-0.916830</td>\n",
       "      <td>-0.353431</td>\n",
       "      <td>-0.353485</td>\n",
       "      <td>...</td>\n",
       "      <td>0</td>\n",
       "      <td>0</td>\n",
       "      <td>0</td>\n",
       "      <td>0</td>\n",
       "      <td>0</td>\n",
       "      <td>0</td>\n",
       "      <td>0</td>\n",
       "      <td>0</td>\n",
       "      <td>0</td>\n",
       "      <td>0</td>\n",
       "    </tr>\n",
       "    <tr>\n",
       "      <th>4</th>\n",
       "      <td>60</td>\n",
       "      <td>-0.701681</td>\n",
       "      <td>-0.580211</td>\n",
       "      <td>-0.877614</td>\n",
       "      <td>-0.515353</td>\n",
       "      <td>-0.494840</td>\n",
       "      <td>-0.983188</td>\n",
       "      <td>-0.916830</td>\n",
       "      <td>-0.353431</td>\n",
       "      <td>-0.353485</td>\n",
       "      <td>...</td>\n",
       "      <td>0</td>\n",
       "      <td>0</td>\n",
       "      <td>0</td>\n",
       "      <td>0</td>\n",
       "      <td>0</td>\n",
       "      <td>0</td>\n",
       "      <td>0</td>\n",
       "      <td>0</td>\n",
       "      <td>0</td>\n",
       "      <td>0</td>\n",
       "    </tr>\n",
       "  </tbody>\n",
       "</table>\n",
       "<p>5 rows × 170 columns</p>\n",
       "</div>"
      ],
      "text/plain": [
       "   trans_id_nunique  amount_sum  amount_mean  amount_max  \\\n",
       "0               109   -0.805123    -1.108146   -0.808782   \n",
       "1               249    0.009773    -0.501835    0.693573   \n",
       "2               249    0.009773    -0.501835    0.693573   \n",
       "3                60   -0.701681    -0.580211   -0.877614   \n",
       "4                60   -0.701681    -0.580211   -0.877614   \n",
       "\n",
       "   trans_id_nunique_25k  amount_sum_25k  amount_mean_25k  amount_max_25k  \\\n",
       "0             -0.515353       -0.494840        -0.983188       -0.916830   \n",
       "1             -0.461561       -0.435393         1.443406        0.802267   \n",
       "2             -0.461561       -0.435393         1.443406        0.802267   \n",
       "3             -0.515353       -0.494840        -0.983188       -0.916830   \n",
       "4             -0.515353       -0.494840        -0.983188       -0.916830   \n",
       "\n",
       "   trans_id_nunique_50k  amount_sum_50k    ...     acct_dist_id_72  \\\n",
       "0             -0.353431       -0.353485    ...                   0   \n",
       "1             -0.353431       -0.353485    ...                   0   \n",
       "2             -0.353431       -0.353485    ...                   0   \n",
       "3             -0.353431       -0.353485    ...                   0   \n",
       "4             -0.353431       -0.353485    ...                   0   \n",
       "\n",
       "   acct_dist_id_73  acct_dist_id_74  acct_dist_id_75  acct_dist_id_76  \\\n",
       "0                0                0                0                0   \n",
       "1                0                0                0                0   \n",
       "2                0                0                0                0   \n",
       "3                0                0                0                0   \n",
       "4                0                0                0                0   \n",
       "\n",
       "   acct_dist_id_77  status_A  status_B  status_C  status_D  \n",
       "0                0         0         0         0         0  \n",
       "1                0         1         0         0         0  \n",
       "2                0         1         0         0         0  \n",
       "3                0         0         0         0         0  \n",
       "4                0         0         0         0         0  \n",
       "\n",
       "[5 rows x 170 columns]"
      ]
     },
     "execution_count": 104,
     "metadata": {},
     "output_type": "execute_result"
    }
   ],
   "source": [
    "svm_x_scaled_encoded.head()"
   ]
  },
  {
   "cell_type": "code",
   "execution_count": 105,
   "metadata": {},
   "outputs": [
    {
     "data": {
      "text/plain": [
       "1.0"
      ]
     },
     "execution_count": 105,
     "metadata": {},
     "output_type": "execute_result"
    }
   ],
   "source": [
    "np.std(svm_x_scaled_encoded['trans_id_nunique_25k'])"
   ]
  },
  {
   "cell_type": "code",
   "execution_count": 106,
   "metadata": {},
   "outputs": [],
   "source": [
    "y_label_enc=preprocessing.LabelEncoder()\n",
    "Y_encoded=pd.Series(y_label_enc.fit_transform(Y))"
   ]
  },
  {
   "cell_type": "code",
   "execution_count": 107,
   "metadata": {},
   "outputs": [
    {
     "data": {
      "text/plain": [
       "0    1\n",
       "1    0\n",
       "2    0\n",
       "3    1\n",
       "4    1\n",
       "dtype: int64"
      ]
     },
     "execution_count": 107,
     "metadata": {},
     "output_type": "execute_result"
    }
   ],
   "source": [
    "Y_encoded.head()"
   ]
  },
  {
   "cell_type": "markdown",
   "metadata": {},
   "source": [
    "##### SVM with features from Txns > 50k:"
   ]
  },
  {
   "cell_type": "code",
   "execution_count": 108,
   "metadata": {},
   "outputs": [
    {
     "name": "stdout",
     "output_type": "stream",
     "text": [
      "Accuracy SVM using features from txn > 50k: 93.37 %\n"
     ]
    }
   ],
   "source": [
    "SVM_clf_50k=SVC()\n",
    "\n",
    "\n",
    "SVM_50k_cols=[x for x in list(svm_x_scaled_encoded.columns)\\\n",
    "              if x not in ['amount_sum','amount_mean','amount_max','trans_id_nunique',\\\n",
    "                          'amount_sum_25k','amount_mean_25k','amount_max_25k','trans_id_nunique_25k']]\n",
    "\n",
    "X_train_SVM_50k, X_test_SVM_50k, y_train_SVM_50k,\\\n",
    "y_test_SVM_50k = train_test_split(svm_x_scaled_encoded[SVM_50k_cols],Y_encoded,train_size=0.75)\n",
    "\n",
    "#[SVM_50k_cols]\n",
    "\n",
    "SVM_clf_50k.fit(X_train_SVM_50k,y_train_SVM_50k)\n",
    "SVM_50k_accuracy=SVM_clf_50k.score(X_test_SVM_50k,y_test_SVM_50k)\n",
    "print('Accuracy of SVM using features from txn > 50k: {} %'.format(round(SVM_50k_accuracy*100,2)))"
   ]
  },
  {
   "cell_type": "markdown",
   "metadata": {},
   "source": [
    "##### SVM with features from Txns > 25k:"
   ]
  },
  {
   "cell_type": "code",
   "execution_count": 109,
   "metadata": {},
   "outputs": [
    {
     "name": "stdout",
     "output_type": "stream",
     "text": [
      "Accuracy SVM using features from txn > 25k: 89.95 %\n"
     ]
    }
   ],
   "source": [
    "SVM_clf_25k=SVC()\n",
    "\n",
    "\n",
    "SVM_25k_cols=[x for x in list(svm_x_scaled_encoded.columns)\\\n",
    "              if x not in ['amount_sum','amount_mean','amount_max','trans_id_nunique',\\\n",
    "                          'amount_sum_50k','amount_mean_50k','amount_max_50k','trans_id_nunique_50k']]\n",
    "\n",
    "X_train_SVM_25k, X_test_SVM_25k, y_train_SVM_25k,\\\n",
    "y_test_SVM_25k = train_test_split(svm_x_scaled_encoded[SVM_25k_cols],Y_encoded,train_size=0.75)\n",
    "\n",
    "#[SVM_50k_cols]\n",
    "\n",
    "SVM_clf_25k.fit(X_train_SVM_25k,y_train_SVM_25k)\n",
    "SVM_25k_accuracy=SVM_clf_25k.score(X_test_SVM_25k,y_test_SVM_25k)\n",
    "print('Accuracy of SVM using features from txn > 25k: {} %'.format(round(SVM_25k_accuracy*100,2)))"
   ]
  },
  {
   "cell_type": "markdown",
   "metadata": {},
   "source": [
    "##### SVM with features from All Txns:"
   ]
  },
  {
   "cell_type": "code",
   "execution_count": 110,
   "metadata": {},
   "outputs": [
    {
     "name": "stdout",
     "output_type": "stream",
     "text": [
      "Accuracy SVM using features from all txns: 78.11 %\n"
     ]
    }
   ],
   "source": [
    "SVM_clf_all=SVC()\n",
    "\n",
    "\n",
    "SVM_all_cols=[x for x in list(svm_x_scaled_encoded.columns)\\\n",
    "              if x not in ['amount_sum_25k','amount_mean_25k','amount_max_25k','trans_id_nunique_25k',\\\n",
    "                          'amount_sum_50k','amount_mean_50k','amount_max_50k','trans_id_nunique_50k']]\n",
    "\n",
    "X_train_SVM_all, X_test_SVM_all, y_train_SVM_all,\\\n",
    "y_test_SVM_all = train_test_split(svm_x_scaled_encoded[SVM_all_cols],Y_encoded,train_size=0.75)\n",
    "\n",
    "#[SVM_50k_cols]\n",
    "\n",
    "SVM_clf_all.fit(X_train_SVM_all,y_train_SVM_all)\n",
    "SVM_all_accuracy=SVM_clf_all.score(X_test_SVM_all,y_test_SVM_all)\n",
    "print('Accuracy of SVM using features from all txns: {} %'.format(round(SVM_all_accuracy*100,2)))"
   ]
  },
  {
   "cell_type": "markdown",
   "metadata": {},
   "source": [
    "#### Decision Tree:"
   ]
  },
  {
   "cell_type": "code",
   "execution_count": 112,
   "metadata": {},
   "outputs": [
    {
     "data": {
      "text/html": [
       "<div>\n",
       "<table border=\"1\" class=\"dataframe\">\n",
       "  <thead>\n",
       "    <tr style=\"text-align: right;\">\n",
       "      <th></th>\n",
       "      <th>client_dist_id</th>\n",
       "      <th>acct_dist_id</th>\n",
       "      <th>status</th>\n",
       "      <th>trans_id_nunique</th>\n",
       "      <th>amount_sum</th>\n",
       "      <th>amount_mean</th>\n",
       "      <th>amount_max</th>\n",
       "      <th>trans_id_nunique_25k</th>\n",
       "      <th>amount_sum_25k</th>\n",
       "      <th>amount_mean_25k</th>\n",
       "      <th>amount_max_25k</th>\n",
       "      <th>trans_id_nunique_50k</th>\n",
       "      <th>amount_sum_50k</th>\n",
       "      <th>amount_mean_50k</th>\n",
       "      <th>amount_max_50k</th>\n",
       "    </tr>\n",
       "  </thead>\n",
       "  <tbody>\n",
       "    <tr>\n",
       "      <th>0</th>\n",
       "      <td>17</td>\n",
       "      <td>17</td>\n",
       "      <td>4</td>\n",
       "      <td>109</td>\n",
       "      <td>108474.0</td>\n",
       "      <td>995.174312</td>\n",
       "      <td>12600</td>\n",
       "      <td>0</td>\n",
       "      <td>0</td>\n",
       "      <td>0</td>\n",
       "      <td>0</td>\n",
       "      <td>0</td>\n",
       "      <td>0</td>\n",
       "      <td>0</td>\n",
       "      <td>0</td>\n",
       "    </tr>\n",
       "    <tr>\n",
       "      <th>1</th>\n",
       "      <td>0</td>\n",
       "      <td>0</td>\n",
       "      <td>0</td>\n",
       "      <td>249</td>\n",
       "      <td>1049591.0</td>\n",
       "      <td>4215.224900</td>\n",
       "      <td>42000</td>\n",
       "      <td>1</td>\n",
       "      <td>42000</td>\n",
       "      <td>42000</td>\n",
       "      <td>42000</td>\n",
       "      <td>0</td>\n",
       "      <td>0</td>\n",
       "      <td>0</td>\n",
       "      <td>0</td>\n",
       "    </tr>\n",
       "    <tr>\n",
       "      <th>2</th>\n",
       "      <td>0</td>\n",
       "      <td>0</td>\n",
       "      <td>0</td>\n",
       "      <td>249</td>\n",
       "      <td>1049591.0</td>\n",
       "      <td>4215.224900</td>\n",
       "      <td>42000</td>\n",
       "      <td>1</td>\n",
       "      <td>42000</td>\n",
       "      <td>42000</td>\n",
       "      <td>42000</td>\n",
       "      <td>0</td>\n",
       "      <td>0</td>\n",
       "      <td>0</td>\n",
       "      <td>0</td>\n",
       "    </tr>\n",
       "    <tr>\n",
       "      <th>3</th>\n",
       "      <td>4</td>\n",
       "      <td>4</td>\n",
       "      <td>4</td>\n",
       "      <td>60</td>\n",
       "      <td>227938.8</td>\n",
       "      <td>3798.980000</td>\n",
       "      <td>11253</td>\n",
       "      <td>0</td>\n",
       "      <td>0</td>\n",
       "      <td>0</td>\n",
       "      <td>0</td>\n",
       "      <td>0</td>\n",
       "      <td>0</td>\n",
       "      <td>0</td>\n",
       "      <td>0</td>\n",
       "    </tr>\n",
       "    <tr>\n",
       "      <th>4</th>\n",
       "      <td>4</td>\n",
       "      <td>4</td>\n",
       "      <td>4</td>\n",
       "      <td>60</td>\n",
       "      <td>227938.8</td>\n",
       "      <td>3798.980000</td>\n",
       "      <td>11253</td>\n",
       "      <td>0</td>\n",
       "      <td>0</td>\n",
       "      <td>0</td>\n",
       "      <td>0</td>\n",
       "      <td>0</td>\n",
       "      <td>0</td>\n",
       "      <td>0</td>\n",
       "      <td>0</td>\n",
       "    </tr>\n",
       "  </tbody>\n",
       "</table>\n",
       "</div>"
      ],
      "text/plain": [
       "   client_dist_id  acct_dist_id  status  trans_id_nunique  amount_sum  \\\n",
       "0              17            17       4               109    108474.0   \n",
       "1               0             0       0               249   1049591.0   \n",
       "2               0             0       0               249   1049591.0   \n",
       "3               4             4       4                60    227938.8   \n",
       "4               4             4       4                60    227938.8   \n",
       "\n",
       "   amount_mean  amount_max  trans_id_nunique_25k  amount_sum_25k  \\\n",
       "0   995.174312       12600                     0               0   \n",
       "1  4215.224900       42000                     1           42000   \n",
       "2  4215.224900       42000                     1           42000   \n",
       "3  3798.980000       11253                     0               0   \n",
       "4  3798.980000       11253                     0               0   \n",
       "\n",
       "   amount_mean_25k  amount_max_25k  trans_id_nunique_50k  amount_sum_50k  \\\n",
       "0                0               0                     0               0   \n",
       "1            42000           42000                     0               0   \n",
       "2            42000           42000                     0               0   \n",
       "3                0               0                     0               0   \n",
       "4                0               0                     0               0   \n",
       "\n",
       "   amount_mean_50k  amount_max_50k  \n",
       "0                0               0  \n",
       "1                0               0  \n",
       "2                0               0  \n",
       "3                0               0  \n",
       "4                0               0  "
      ]
     },
     "execution_count": 112,
     "metadata": {},
     "output_type": "execute_result"
    }
   ],
   "source": [
    "dtc_x_encoded=X\n",
    "dtc_x_encoded.loc[:,['client_dist_id','acct_dist_id','status']].head()\n",
    "dtc_x_encoded.loc[:,['client_dist_id','acct_dist_id','status']]=dtc_x_encoded.\\\n",
    "loc[:,['client_dist_id','acct_dist_id','status']].fillna('NULL').apply(preprocessing.LabelEncoder().fit_transform)\n",
    "\n",
    "dtc_x_encoded.head()"
   ]
  },
  {
   "cell_type": "code",
   "execution_count": 113,
   "metadata": {},
   "outputs": [
    {
     "data": {
      "text/plain": [
       "client_dist_id            int64\n",
       "acct_dist_id              int64\n",
       "status                    int64\n",
       "trans_id_nunique          int64\n",
       "amount_sum              float64\n",
       "amount_mean             float64\n",
       "amount_max              float64\n",
       "trans_id_nunique_25k    float64\n",
       "amount_sum_25k          float64\n",
       "amount_mean_25k         float64\n",
       "amount_max_25k          float64\n",
       "trans_id_nunique_50k    float64\n",
       "amount_sum_50k          float64\n",
       "amount_mean_50k         float64\n",
       "amount_max_50k          float64\n",
       "dtype: object"
      ]
     },
     "execution_count": 113,
     "metadata": {},
     "output_type": "execute_result"
    }
   ],
   "source": [
    "dtc_x_encoded.dtypes"
   ]
  },
  {
   "cell_type": "markdown",
   "metadata": {},
   "source": [
    "##### Decision Tree with features from Txns > 50k:"
   ]
  },
  {
   "cell_type": "code",
   "execution_count": 114,
   "metadata": {},
   "outputs": [
    {
     "name": "stdout",
     "output_type": "stream",
     "text": [
      "Accuracy of Decision Tree using features from txn > 50k: 98.73 %\n"
     ]
    }
   ],
   "source": [
    "DTC_clf_50k=tree.DecisionTreeClassifier()\n",
    "\n",
    "\n",
    "DTC_50k_cols=[x for x in list(dtc_x_encoded.columns)\\\n",
    "              if x not in ['amount_sum','amount_mean','amount_max','trans_id_nunique',\\\n",
    "                          'amount_sum_25k','amount_mean_25k','amount_max_25k','trans_id_nunique_25k']]\n",
    "\n",
    "X_train_DTC_50k, X_test_DTC_50k, y_train_DTC_50k,\\\n",
    "y_test_DTC_50k = train_test_split(dtc_x_encoded[DTC_50k_cols],Y_encoded,train_size=0.75)\n",
    "\n",
    "#[SVM_50k_cols]\n",
    "\n",
    "DTC_clf_50k.fit(X_train_DTC_50k,y_train_DTC_50k)\n",
    "DTC_50k_accuracy=DTC_clf_50k.score(X_test_DTC_50k,y_test_DTC_50k)\n",
    "print('Accuracy of Decision Tree using features from txn > 50k: {} %'.format(round(DTC_50k_accuracy*100,2)))"
   ]
  },
  {
   "cell_type": "markdown",
   "metadata": {},
   "source": [
    "##### Decision Tree with features from Txns > 25k:"
   ]
  },
  {
   "cell_type": "code",
   "execution_count": 115,
   "metadata": {},
   "outputs": [
    {
     "name": "stdout",
     "output_type": "stream",
     "text": [
      "Accuracy of Decision Tree using features from txn > 25k: 98.14 %\n"
     ]
    }
   ],
   "source": [
    "DTC_clf_25k=tree.DecisionTreeClassifier()\n",
    "\n",
    "\n",
    "DTC_25k_cols=[x for x in list(dtc_x_encoded.columns)\\\n",
    "              if x not in ['amount_sum','amount_mean','amount_max','trans_id_nunique',\\\n",
    "                          'amount_sum_50k','amount_mean_50k','amount_max_50k','trans_id_nunique_50k']]\n",
    "\n",
    "X_train_DTC_25k, X_test_DTC_25k, y_train_DTC_25k,\\\n",
    "y_test_DTC_25k = train_test_split(dtc_x_encoded[DTC_25k_cols],Y_encoded,train_size=0.75)\n",
    "\n",
    "#[SVM_50k_cols]\n",
    "\n",
    "DTC_clf_25k.fit(X_train_DTC_25k,y_train_DTC_25k)\n",
    "DTC_25k_accuracy=DTC_clf_25k.score(X_test_DTC_25k,y_test_DTC_25k)\n",
    "print('Accuracy of Decision Tree using features from txn > 25k: {} %'.format(round(DTC_25k_accuracy*100,2)))"
   ]
  },
  {
   "cell_type": "markdown",
   "metadata": {},
   "source": [
    "##### Decision Tree with features from All Txns:"
   ]
  },
  {
   "cell_type": "code",
   "execution_count": 116,
   "metadata": {},
   "outputs": [
    {
     "name": "stdout",
     "output_type": "stream",
     "text": [
      "Accuracy of Decision Tree using features from all txns: 98.66 %\n"
     ]
    }
   ],
   "source": [
    "DTC_clf_all=tree.DecisionTreeClassifier()\n",
    "\n",
    "\n",
    "DTC_all_cols=[x for x in list(dtc_x_encoded.columns)\\\n",
    "              if x not in ['amount_sum_25k','amount_mean_25k','amount_max_25k','trans_id_nunique_25k',\\\n",
    "                          'amount_sum_50k','amount_mean_50k','amount_max_50k','trans_id_nunique_50k']]\n",
    "\n",
    "X_train_DTC_all, X_test_DTC_all, y_train_DTC_all,\\\n",
    "y_test_DTC_all = train_test_split(dtc_x_encoded[DTC_all_cols],Y_encoded,train_size=0.75)\n",
    "\n",
    "#[SVM_50k_cols]\n",
    "\n",
    "DTC_clf_all.fit(X_train_DTC_all,y_train_DTC_all)\n",
    "DTC_all_accuracy=DTC_clf_all.score(X_test_DTC_all,y_test_DTC_all)\n",
    "print('Accuracy of Decision Tree using features from all txns: {} %'.format(round(DTC_all_accuracy*100,2)))"
   ]
  },
  {
   "cell_type": "markdown",
   "metadata": {},
   "source": [
    "## Conclusion:\n",
    "\n",
    "For this predictive modelling/descriptive analysis exercise, a **realistic** data set, with characteristics which one might encounter in AML data, was chosen. Part of the task was to analyze the data to determine whether a client is Good or Bad. By analyzing the data and making choices of metrics based on AML experience, these clients were identified.\n",
    "\n",
    "The second part of this exercise was predictive modelling. For this, a classifer to determine Good and Bad clients from the original data set was to be designed. The author trained Support Vector and Decision Tree classifers. For each class of classifer, three sets of training data, differing only in the transaction features, were used. One set had transaction features of cash and wire transactions > 50k in value, another had features of cash and wire transactions > 25k in value, and the third had features of all cash and wire transactions.\n",
    "\n",
    "It was found that as a class, the Decision Tree Classifier performed better than SVM with peak accuracies around 98% for all 3 feature sets. The SVM performed best for features of transactions >50k with accuracies around 93%. The SVM classifiers for features from >25k transactions and all transactions were around 90% and 79% respectively."
   ]
  }
 ],
 "metadata": {
  "kernelspec": {
   "display_name": "Python 3",
   "language": "python",
   "name": "python3"
  },
  "language_info": {
   "codemirror_mode": {
    "name": "ipython",
    "version": 3
   },
   "file_extension": ".py",
   "mimetype": "text/x-python",
   "name": "python",
   "nbconvert_exporter": "python",
   "pygments_lexer": "ipython3",
   "version": "3.5.2"
  }
 },
 "nbformat": 4,
 "nbformat_minor": 2
}
